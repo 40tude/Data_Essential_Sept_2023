{
 "cells": [
  {
   "cell_type": "markdown",
   "id": "cc66444a",
   "metadata": {},
   "source": [
    "# Linear algebra - Exercises"
   ]
  },
  {
   "cell_type": "markdown",
   "id": "f667c27a",
   "metadata": {},
   "source": [
    "## Operations with vectors and matrices\n",
    "\n",
    "### Vector operations\n",
    "\n",
    "1. Compute the sum $\\vec{u} + \\vec{v}$ of the following vectors : \n",
    "$$\n",
    "\\vec{u} = \n",
    "\\begin{bmatrix}\n",
    "2 \\\\\n",
    "9 \\\\\n",
    "-1\n",
    "\\end{bmatrix}\n",
    "$$\n",
    "$$\n",
    "\\vec{v} = \n",
    "\\begin{bmatrix}\n",
    "1 \\\\\n",
    "5 \\\\\n",
    "3\n",
    "\\end{bmatrix}\n",
    "$$"
   ]
  },
  {
   "cell_type": "markdown",
   "id": "643382d5",
   "metadata": {},
   "source": [
    "2. Compute the difference $\\vec{u} - \\vec{v}$ between the following vectors : \n",
    "$$\n",
    "\\vec{u} = \n",
    "\\begin{bmatrix}\n",
    "10 \\\\\n",
    "-2 \\\\\n",
    "1\n",
    "\\end{bmatrix}\n",
    "$$\n",
    "$$\n",
    "\\vec{v} = \n",
    "\\begin{bmatrix}\n",
    "4 \\\\\n",
    "3 \\\\\n",
    "2\n",
    "\\end{bmatrix}\n",
    "$$"
   ]
  },
  {
   "cell_type": "markdown",
   "id": "66320a8d",
   "metadata": {},
   "source": [
    "3. Compute : $\\alpha (\\vec{u} + \\vec{v})$ with $\\alpha = 4$ and :\n",
    "$$\n",
    "\\vec{u} = \n",
    "\\begin{bmatrix}\n",
    "1 \\\\\n",
    "-2 \\\\\n",
    "2\n",
    "\\end{bmatrix}\n",
    "$$\n",
    "$$\n",
    "\\vec{v} = \n",
    "\\begin{bmatrix}\n",
    "2 \\\\\n",
    "1 \\\\\n",
    "0\n",
    "\\end{bmatrix}\n",
    "$$"
   ]
  },
  {
   "cell_type": "markdown",
   "id": "5543030d",
   "metadata": {},
   "source": [
    "4. Compute the norms $\\Vert\\vec{u}\\Vert$ and $\\Vert\\vec{v}\\Vert$ with:\n",
    "$$\n",
    "\\vec{u}\n",
    "=\n",
    "\\begin{bmatrix}\n",
    "1 \\\\\n",
    "2 \\\\\n",
    "3 \\\\\n",
    "4 \\\\\n",
    "\\end{bmatrix}\n",
    "$$\n",
    "$$\n",
    "\\vec{v}\n",
    "=\n",
    "\\begin{bmatrix}\n",
    "-1 \\\\\n",
    "2 \\\\\n",
    "-3 \\\\\n",
    "4 \\\\\n",
    "\\end{bmatrix}\n",
    "$$"
   ]
  },
  {
   "cell_type": "markdown",
   "id": "c57eb827",
   "metadata": {},
   "source": [
    "### Matrix operations"
   ]
  },
  {
   "cell_type": "markdown",
   "id": "b667e04c",
   "metadata": {},
   "source": [
    "5. Compute the sum $A + B$ of the two following matrices :\n",
    "$$\n",
    "A = \n",
    "\\begin{bmatrix}\n",
    "1 & 2 & 3 \\\\\n",
    "2 & 1 & 4 \\\\\n",
    "3 & 4 & 1\n",
    "\\end{bmatrix}\n",
    "$$\n",
    "$$\n",
    "B = \n",
    "\\begin{bmatrix}\n",
    "2 & 3 & 4 \\\\\n",
    "3 & 2 & 5 \\\\\n",
    "4 & 5 & 2\n",
    "\\end{bmatrix}\n",
    "$$"
   ]
  },
  {
   "cell_type": "markdown",
   "id": "15e14752",
   "metadata": {},
   "source": [
    "6. Compute the operation $2A - B$ with:\n",
    "$$\n",
    "A = \n",
    "\\begin{bmatrix}\n",
    "1 & 2 & 3 \\\\\n",
    "2 & 1 & 4 \\\\\n",
    "3 & 4 & 1\n",
    "\\end{bmatrix}\n",
    "$$\n",
    "$$\n",
    "B = \n",
    "\\begin{bmatrix}\n",
    "2 & 3 & 4 \\\\\n",
    "3 & 2 & 5 \\\\\n",
    "4 & 5 & 2\n",
    "\\end{bmatrix}\n",
    "$$"
   ]
  },
  {
   "cell_type": "markdown",
   "id": "4f192dd9",
   "metadata": {},
   "source": [
    "7. Compute the products of matrices : $AB$ and $BA$ with:\n",
    "$$\n",
    "A = \n",
    "\\begin{bmatrix}\n",
    "1 & 0 & 2 \\\\\n",
    "2 & 1 & 0 \\\\\n",
    "1 & 2 & 1\n",
    "\\end{bmatrix}\n",
    "$$\n",
    "$$\n",
    "B = \n",
    "\\begin{bmatrix}\n",
    "2 & 0 & 0 \\\\\n",
    "1 & 2 & 0 \\\\\n",
    "0 & 1 & 2\n",
    "\\end{bmatrix}\n",
    "$$"
   ]
  },
  {
   "cell_type": "markdown",
   "id": "3582156a",
   "metadata": {},
   "source": [
    "8. Compute the products of matrices : $AB$ and $BA$ with:\n",
    "$$\n",
    "A = \n",
    "\\begin{bmatrix}\n",
    "1 & 0 \\\\\n",
    "2 & 1 \\\\\n",
    "1 & 2\n",
    "\\end{bmatrix}\n",
    "$$\n",
    "$$\n",
    "B = \n",
    "\\begin{bmatrix}\n",
    "2 & 0 & 0 \\\\\n",
    "1 & 2 & 0 \n",
    "\\end{bmatrix}\n",
    "$$"
   ]
  },
  {
   "cell_type": "markdown",
   "id": "993de912",
   "metadata": {},
   "source": [
    "### Matrix-vector product"
   ]
  },
  {
   "cell_type": "markdown",
   "id": "ca7cf239",
   "metadata": {},
   "source": [
    "9. Compute the matrix-vector product $A\\vec{v}$ with :\n",
    "$$\n",
    "A = \n",
    "\\begin{bmatrix}\n",
    "1 & 0 & 2 \\\\\n",
    "2 & 1 & 0 \\\\\n",
    "1 & 2 & 1\n",
    "\\end{bmatrix}\n",
    "$$\n",
    "$$\n",
    "\\vec{v} = \n",
    "\\begin{bmatrix}\n",
    "-1 \\\\\n",
    "1 \\\\\n",
    "2 \n",
    "\\end{bmatrix}\n",
    "$$"
   ]
  },
  {
   "cell_type": "markdown",
   "id": "eb89fadc",
   "metadata": {},
   "source": [
    "## Collinearity and orthogonality"
   ]
  },
  {
   "cell_type": "markdown",
   "id": "b4ec65a6",
   "metadata": {},
   "source": [
    "10. Compute the dot product $\\vec{u} \\cdot \\vec{v} $ with:\n",
    "$$\n",
    "\\vec{u}\n",
    "=\n",
    "\\begin{bmatrix}\n",
    "2 \\\\\n",
    "-3 \\\\\n",
    "-1 \\\\\n",
    "\\end{bmatrix}\n",
    "$$\n",
    "$$\n",
    "\\vec{v}\n",
    "=\n",
    "\\begin{bmatrix}\n",
    "3 \\\\\n",
    "1 \\\\\n",
    "3 \\\\\n",
    "\\end{bmatrix}\n",
    "$$\n",
    "\n",
    "What can you conclude about the angle between the two vectors ?"
   ]
  },
  {
   "cell_type": "markdown",
   "id": "54311258",
   "metadata": {},
   "source": [
    "11. Are $\\vec{u}$, $\\vec{v}$ collinear ?\n",
    "$$\n",
    "\\vec{u}\n",
    "=\n",
    "\\begin{bmatrix}\n",
    "4 \\\\\n",
    "2 \\\\\n",
    "-1\n",
    "\\end{bmatrix}\n",
    "$$\n",
    "\n",
    "$$\n",
    "\\vec{v}\n",
    "=\n",
    "\\begin{bmatrix}\n",
    "-1 \\\\\n",
    "-\\frac{1}{2} \\\\\n",
    "\\frac{1}{4}\n",
    "\\end{bmatrix}\n",
    "$$"
   ]
  },
  {
   "cell_type": "markdown",
   "id": "f8eaa6e4",
   "metadata": {},
   "source": [
    "12. Are $\\vec{u}$, $\\vec{v}$ and $\\vec{w}$ linearly independent ?\n",
    "$$\n",
    "\\vec{u}\n",
    "=\n",
    "\\begin{bmatrix}\n",
    "1 \\\\\n",
    "2 \n",
    "\\end{bmatrix}\n",
    "$$\n",
    "\n",
    "$$\n",
    "\\vec{v}\n",
    "=\n",
    "\\begin{bmatrix}\n",
    "-2 \\\\\n",
    "1 \\\\\n",
    "\\end{bmatrix}\n",
    "$$\n",
    "\n",
    "$$\n",
    "\\vec{w}\n",
    "=\n",
    "\\begin{bmatrix}\n",
    "-1 \\\\\n",
    "3\n",
    "\\end{bmatrix}\n",
    "$$"
   ]
  },
  {
   "cell_type": "markdown",
   "id": "bd97de40",
   "metadata": {},
   "source": [
    "13. **[Bonus question - for experts only 💪]** Are $\\vec{u}$, $\\vec{v}$ and $\\vec{w}$ linearly independent ?\n",
    "\n",
    "$$\n",
    "\\vec{u}\n",
    "=\n",
    "\\begin{bmatrix}\n",
    "1 \\\\\n",
    "2 \\\\\n",
    "0\n",
    "\\end{bmatrix}\n",
    "$$\n",
    "\n",
    "$$\n",
    "\\vec{v}\n",
    "=\n",
    "\\begin{bmatrix}\n",
    "-2 \\\\\n",
    "1 \\\\\n",
    "0\n",
    "\\end{bmatrix}\n",
    "$$\n",
    "\n",
    "$$\n",
    "\\vec{w}\n",
    "=\n",
    "\\begin{bmatrix}\n",
    "0 \\\\\n",
    "1 \\\\\n",
    "2\n",
    "\\end{bmatrix}\n",
    "$$"
   ]
  },
  {
   "cell_type": "markdown",
   "id": "983eec78",
   "metadata": {},
   "source": [
    "## Systems of linear equations"
   ]
  },
  {
   "cell_type": "markdown",
   "id": "184bb514",
   "metadata": {},
   "source": [
    "14. **[Bonus question - for experts only 💪]** Consider the following system of linear equations :\n",
    "\n",
    "$$\n",
    "\\begin{equation}\n",
    "    \\begin{cases}\n",
    "      2x_1 + x_2 = 2\\\\\n",
    "      x_1 + 2x_2 + x_3 = 0 \\\\\n",
    "      x_2 + 2x_3 = 1\n",
    "    \\end{cases}\n",
    "\\end{equation}\n",
    "$$\n",
    "\n",
    "a. Write the matrix representation of this system of equations, in the form $A\\vec{x} = \\vec{c}$ where :\n",
    "- $A$ is a matrix containing the coefficients of the equation\n",
    "- $\\vec{x}$ is the vector of unknowns\n",
    "- $\\vec{c}$ is a vector of constant values\n",
    "\n",
    "b. Prove that the following matrix is the inverse of matrix $A$ :\n",
    "$$\n",
    "B = \\begin{bmatrix} \n",
    "\\frac{3}{4} & - \\frac{1}{2} & \\frac{1}{4} \\\\\n",
    "-\\frac{1}{2} & 1 & -\\frac{1}{2} \\\\\n",
    "\\frac{1}{4} & -\\frac{1}{2} & \\frac{3}{4}\n",
    "\\end{bmatrix}\n",
    "$$\n",
    "\n",
    "c. Finally, use $B = A^{-1}$ to find the solution to the system of equation"
   ]
  },
  {
   "cell_type": "markdown",
   "id": "df5b1b68",
   "metadata": {},
   "source": [
    "## Matrix diagonalization"
   ]
  },
  {
   "cell_type": "markdown",
   "id": "c8b3183c",
   "metadata": {},
   "source": [
    "15. Consider the following matrix :\n",
    "\n",
    "$$\n",
    "A = \n",
    "\\begin{bmatrix}\n",
    "3 & -1 \\\\\n",
    "2 & 0\n",
    "\\end{bmatrix}\n",
    "$$\n",
    "\n",
    "a. Show that $\\vec{u} = \\begin{bmatrix}1\\\\1\\end{bmatrix}$ and $\\vec{v} = \\begin{bmatrix}1\\\\2\\end{bmatrix}$ are eigenvectors of $A$\n",
    "\n",
    "b. What are the eigenvalues associated to $\\vec{u}$ and $\\vec{v}$ ?"
   ]
  }
 ],
 "metadata": {
  "kernelspec": {
   "display_name": "Python 3",
   "language": "python",
   "name": "python3"
  },
  "language_info": {
   "codemirror_mode": {
    "name": "ipython",
    "version": 3
   },
   "file_extension": ".py",
   "mimetype": "text/x-python",
   "name": "python",
   "nbconvert_exporter": "python",
   "pygments_lexer": "ipython3",
   "version": "3.8.8"
  }
 },
 "nbformat": 4,
 "nbformat_minor": 5
}
