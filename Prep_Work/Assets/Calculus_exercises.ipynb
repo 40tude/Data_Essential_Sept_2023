{
 "cells": [
  {
   "attachments": {},
   "cell_type": "markdown",
   "metadata": {},
   "source": [
    "# Calculus - exercises 🧠✍️\n",
    "\n",
    "It's time to practice some calculus 💪🤓\n",
    "\n",
    "🏋️🏋️ _There are lots of questions, because we want to give you as many examples as possible. But you're not necessarily supposed to answer all of them ! Feel free to skip some questions and to refer to the exercise's solution whenever you get stuck !_ 🏋️🏋️\n",
    "\n",
    "## Common functions\n",
    "\n",
    "### Exponential & Logarithm\n",
    "\n",
    "#### Expand each exponential\n",
    "_Find equivalent expressions that depend directly on $e^u$ and $e^v$ (when it's possible)_\n",
    "\n",
    "1. $e^{u + 3v}$\n",
    "2. $e{\\frac{u}{2}}$\n",
    "4. $e^{u - 7v}$\n",
    "5. $e^{3(\\frac{u}{2} - v)}$\n",
    "6. $e^{5\\ln(u)}$"
   ]
  },
  {
   "cell_type": "code",
   "execution_count": 1,
   "metadata": {},
   "outputs": [
    {
     "name": "stdout",
     "output_type": "stream",
     "text": [
      "Requirement already satisfied: sympy in c:\\users\\phili\\anaconda3\\lib\\site-packages (1.11.1)\n",
      "Requirement already satisfied: mpmath>=0.19 in c:\\users\\phili\\anaconda3\\lib\\site-packages (from sympy) (1.2.1)\n"
     ]
    }
   ],
   "source": [
    "!pip install sympy\n",
    "from sympy import *\n",
    "from sympy.plotting import plot"
   ]
  },
  {
   "cell_type": "code",
   "execution_count": 2,
   "metadata": {},
   "outputs": [
    {
     "data": {
      "text/latex": [
       "$\\displaystyle e^{u} e^{3 v}$"
      ],
      "text/plain": [
       "exp(u)*exp(3*v)"
      ]
     },
     "execution_count": 2,
     "metadata": {},
     "output_type": "execute_result"
    }
   ],
   "source": [
    "# Create u, v symbols\n",
    "u, v = symbols('u, v', real = True) # 'real = True' means we're dealing with real numbers\n",
    "# Create expression \n",
    "expr = exp((u + 3*v)) # type the initial expression here\n",
    "# Expand expression\n",
    "expand_power_exp(expr)"
   ]
  },
  {
   "cell_type": "code",
   "execution_count": 3,
   "metadata": {},
   "outputs": [
    {
     "data": {
      "text/plain": [
       "True"
      ]
     },
     "execution_count": 3,
     "metadata": {},
     "output_type": "execute_result"
    }
   ],
   "source": [
    "expand_power_exp(expr) == exp(u)*(exp(v))**3 # compare to the solution"
   ]
  },
  {
   "attachments": {},
   "cell_type": "markdown",
   "metadata": {},
   "source": [
    "#### Expand each logarithm\n",
    "_Find equivalent expressions that depend directly on $\\ln(u)$ and $\\ln(v)$ (when it's possible)_\n",
    "\n",
    "1. $\\ln(3 u^2)$\n",
    "\n",
    "2. $\\ln(5uv)$\n",
    "\n",
    "3. $\\ln(u + v)^2$ \n",
    "\n",
    "4. $\\ln(\\frac{u^4}{v^4})$ \n",
    "\n",
    "5. $\\ln(\\frac{u^2}{v})^3$\n",
    "\n",
    "6. $\\ln(\\frac{5u}{7v^3})^2$"
   ]
  },
  {
   "attachments": {},
   "cell_type": "markdown",
   "metadata": {},
   "source": [
    "#### Find the inverse of each function\n",
    "_Find the formulae that describe x as a function of y : $x = ...$_\n",
    "\n",
    "☝️_To make things easier, here we consider only real positive values for x and y_\n",
    "\n",
    "1. $y = \\ln(x)$\n",
    "2. $y = -10 \\ln(x)$\n",
    "3. $y = \\ln(3x)$\n",
    "4. $y = \\frac{e^x}{3}$\n",
    "5. $y = \\frac{4^x}{2}$\n",
    "6. $y = 3^x + 8$"
   ]
  },
  {
   "attachments": {},
   "cell_type": "markdown",
   "metadata": {},
   "source": [
    "### Power and square root\n",
    "\n",
    "#### Expand each expression\n",
    "\n",
    "1. $(u + v)^2$\n",
    "2. $(5u)^3$\n",
    "3. $(2u - v)^3$\n",
    "4. $\\sqrt{9u}$\n",
    "\n",
    "#### Find the inverse of each function\n",
    "_Find the formulae that describe x as a function of y : $x = ...$_\n",
    "\n",
    "☝️_To make things easier, here we consider only real positive values for x and y_\n",
    "\n",
    "\n",
    "1. $y = 2x^3$\n",
    "2. $y = \\sqrt{3x + 1}$\n",
    "3. $y = \\sqrt[3]{x +2}$\n"
   ]
  },
  {
   "attachments": {},
   "cell_type": "markdown",
   "metadata": {},
   "source": [
    "### Derivatives\n",
    "\n",
    "#### Find the derivative of each function (easy ones 🤗)\n",
    "_For each function $f(x)$, compute $f'(x) \\equiv \\frac{df}{dx}$ (derivative of $f$ with respect to $x$) :_\n",
    "\n",
    "1. $f(x) = 4x - 1$\n",
    "2. $f(x) = x^2 + 3x + 1$\n",
    "3. $f(x) = -e^{x}$\n",
    "4. $f(x) = 3ln(x) + 5$\n",
    "5. $f(x) = \\frac{\\sqrt{x}}{2} + x$\n",
    "6. $f(x) = \\cos(x) + \\sin(x)$\n",
    "7. $f(x) = 2e^{x} - \\frac{ln{x}}{3} + \\sin(x) + 2x + 1$"
   ]
  },
  {
   "attachments": {},
   "cell_type": "markdown",
   "metadata": {},
   "source": [
    "####  Find the derivative of each function (products and ratios of common functions 💪)\n",
    "\n",
    "1. $f(x) = (x^2+5)e^x$\n",
    "2. $f(x) = \\frac{4x + 1}{x^2}$\n",
    "3. $f(x) = \\sin(x)(1 + e^x)$\n",
    "4. $f(x) = -\\frac{\\ln{x}}{\\sin(x) - 1}$\n"
   ]
  },
  {
   "attachments": {},
   "cell_type": "markdown",
   "metadata": {},
   "source": [
    "####  Find the derivative of each function (compositions of common functions 🥵)\n",
    "1. $f(x) = (3x+2)^2$\n",
    "2. $f(x) = e^{x^2}$\n",
    "3. $f(x) = \\ln(3x - 5)$\n",
    "4. $f(x) = \\cos(\\frac{1}{x})$"
   ]
  },
  {
   "attachments": {},
   "cell_type": "markdown",
   "metadata": {},
   "source": [
    "#### Find all the partial derivatives of each function\n",
    "_For each function, find all the partial derivates with respect to all the function's variables. For example, if $f(x, y)$ is a function of two variables $x$ and $y$, you have to find the partial derivatives $\\frac{\\partial f}{\\partial x}$ and $\\frac{\\partial f}{\\partial y}$._\n",
    "1. $f(x, y) = 3x^2 + y^4$\n",
    "2. $f(x, y) = x^2 + 5x + y^2 - 3y + 2xy - 7$\n",
    "3. $f(x, y) = (y^5 +1)e^x$\n",
    "4. $f(x, y) = y\\ln(x) + y^2$\n",
    "5. $f(x, y) = \\frac{\\sin(x)}{\\cos(y)}$\n",
    "6. $f(x, y, z) = ze^{x^2+y^2}$\n",
    "\n",
    "**❗️Questions 5. and 6. are quite difficult ! If you found the answers, congrats 👏👏👏 You deserve the title of 🧙 master in calculus 🧙**"
   ]
  }
 ],
 "metadata": {
  "kernelspec": {
   "display_name": "Python 3",
   "language": "python",
   "name": "python3"
  },
  "language_info": {
   "codemirror_mode": {
    "name": "ipython",
    "version": 3
   },
   "file_extension": ".py",
   "mimetype": "text/x-python",
   "name": "python",
   "nbconvert_exporter": "python",
   "pygments_lexer": "ipython3",
   "version": "3.10.9"
  }
 },
 "nbformat": 4,
 "nbformat_minor": 4
}
