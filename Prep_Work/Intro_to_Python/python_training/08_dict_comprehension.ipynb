{
 "cells": [
  {
   "cell_type": "code",
   "execution_count": 4,
   "metadata": {},
   "outputs": [
    {
     "name": "stdout",
     "output_type": "stream",
     "text": [
      "L'état du stock :\n",
      "{'apple': 500, 'google': 100, 'microsoft': 200, 'amazon': 300}\n",
      "\n",
      "La liste des clés et valeurs :\n",
      "apple \t 500\n",
      "google \t 100\n",
      "microsoft \t 200\n",
      "amazon \t 300\n",
      "\n",
      "La liste des clés et valeurs V2 :\n",
      "apple 500\n",
      "google 100\n",
      "microsoft 200\n",
      "amazon 300\n",
      "\n",
      "La liste des clés uniquement :\n",
      "apple\n",
      "google\n",
      "microsoft\n",
      "amazon\n",
      "\n",
      "La liste des valeurs uniquement\n",
      "500\n",
      "100\n",
      "200\n",
      "300\n",
      "\n",
      "Le dictionnaire en euro : \n",
      "{'apple': 450.0, 'google': 90.0, 'microsoft': 180.0, 'amazon': 270.0} \n",
      "\n",
      "Le dictionnaire en qualitatif : \n",
      "{'apple': 'high', 'google': 'low', 'microsoft': 'high', 'amazon': 'high'} \n",
      "\n"
     ]
    }
   ],
   "source": [
    "Stocks = {\n",
    "  \"apple\" : 500,\n",
    "  \"google\" : 100,\n",
    "  \"microsoft\": 200,\n",
    "  \"amazon\" : 300  \n",
    "}\n",
    "print(\"L'état du stock :\")\n",
    "print(Stocks)\n",
    "print()\n",
    "\n",
    "print(\"La liste des clés et valeurs :\")\n",
    "for clé, valeur in Stocks.items():\n",
    "    print( clé, \"\\t\", valeur)\n",
    "print()\n",
    "\n",
    "print(\"La liste des clés et valeurs V2 :\")\n",
    "for k, v in Stocks.items():\n",
    "    print( k, v)\n",
    "print()\n",
    "\n",
    "print(\"La liste des clés uniquement :\")\n",
    "for bob in Stocks.keys():\n",
    "    print (bob)\n",
    "print()\n",
    "\n",
    "print(\"La liste des valeurs uniquement\")\n",
    "for marcel in Stocks.values():\n",
    "    print (marcel)    \n",
    "print()\n",
    "\n",
    "dollard2euros = .9\n",
    "StockEuro = {clé : valeur*dollard2euros for clé, valeur in Stocks.items()}\n",
    "print(\"Le dictionnaire en euro : \")\n",
    "print (StockEuro, '\\n')\n",
    "\n",
    "# Construction d'un dictionnaire avec des valeurs qualitatives \n",
    "StockQualitatif = {clé : (\"high\" if valeur>=200 else \"low\") for clé, valeur in Stocks.items()}\n",
    "print(\"Le dictionnaire en qualitatif : \")\n",
    "print(StockQualitatif, '\\n')\n",
    "\n",
    "\n"
   ]
  }
 ],
 "metadata": {
  "kernelspec": {
   "display_name": "base",
   "language": "python",
   "name": "python3"
  },
  "language_info": {
   "codemirror_mode": {
    "name": "ipython",
    "version": 3
   },
   "file_extension": ".py",
   "mimetype": "text/x-python",
   "name": "python",
   "nbconvert_exporter": "python",
   "pygments_lexer": "ipython3",
   "version": "3.10.12"
  },
  "orig_nbformat": 4
 },
 "nbformat": 4,
 "nbformat_minor": 2
}
