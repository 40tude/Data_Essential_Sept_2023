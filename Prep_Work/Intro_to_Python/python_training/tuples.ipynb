{
 "cells": [
  {
   "cell_type": "code",
   "execution_count": 9,
   "metadata": {},
   "outputs": [
    {
     "name": "stdout",
     "output_type": "stream",
     "text": [
      "50000\n"
     ]
    },
    {
     "ename": "TypeError",
     "evalue": "'tuple' object does not support item assignment",
     "output_type": "error",
     "traceback": [
      "\u001b[1;31m---------------------------------------------------------------------------\u001b[0m",
      "\u001b[1;31mTypeError\u001b[0m                                 Traceback (most recent call last)",
      "Cell \u001b[1;32mIn[9], line 3\u001b[0m\n\u001b[0;32m      1\u001b[0m car_price \u001b[39m=\u001b[39m (\u001b[39m\"\u001b[39m\u001b[39mA\u001b[39m\u001b[39m\"\u001b[39m, \u001b[39m50000\u001b[39m)\n\u001b[0;32m      2\u001b[0m \u001b[39mprint\u001b[39m(car_price[\u001b[39m1\u001b[39m])\n\u001b[1;32m----> 3\u001b[0m car_price[\u001b[39m1\u001b[39;49m] \u001b[39m=\u001b[39m \u001b[39m25000\u001b[39m\n",
      "\u001b[1;31mTypeError\u001b[0m: 'tuple' object does not support item assignment"
     ]
    }
   ],
   "source": [
    "car_price = (\"A\", 50000)\n",
    "print(car_price[1])\n",
    "car_price[1] = 25000"
   ]
  },
  {
   "cell_type": "code",
   "execution_count": 11,
   "metadata": {},
   "outputs": [
    {
     "name": "stdout",
     "output_type": "stream",
     "text": [
      "[('sdfsdf', '78'), ('tyrtrty', '66')]\n"
     ]
    }
   ],
   "source": [
    "Noms = input(\"Entrez 2 noms séparés par des virgules : \")\n",
    "Montants = input(\"Entrez 2 montants séparés par des virgules : \") \n",
    "\n",
    "ListOfNames = Noms.split(\",\")\n",
    "ListOfAmounts = Montants.split(\",\")\n",
    "\n",
    "# list of tuples\n",
    "friends = [\n",
    "    (ListOfNames[0], ListOfAmounts[0]),\n",
    "    (ListOfNames[1], ListOfAmounts[1])\n",
    "]\n",
    "print(friends)"
   ]
  },
  {
   "cell_type": "markdown",
   "metadata": {},
   "source": [
    "# Utiliser un tuple comme constante ?\n",
    "Non en fait c'est pas une bonne idée..."
   ]
  },
  {
   "cell_type": "code",
   "execution_count": 23,
   "metadata": {},
   "outputs": [
    {
     "name": "stdout",
     "output_type": "stream",
     "text": [
      "(180000,)\n",
      "<class 'tuple'>\n",
      "450000.0\n"
     ]
    }
   ],
   "source": [
    "cMontant = (180000,)\n",
    "print (cMontant)\n",
    "print(type (cMontant))\n",
    "Bob = cMontant[0]*2.5\n",
    "print (Bob)\n",
    "# cMontant = cMontant/2\n",
    "# print (cMontant)\n"
   ]
  }
 ],
 "metadata": {
  "kernelspec": {
   "display_name": "base",
   "language": "python",
   "name": "python3"
  },
  "language_info": {
   "codemirror_mode": {
    "name": "ipython",
    "version": 3
   },
   "file_extension": ".py",
   "mimetype": "text/x-python",
   "name": "python",
   "nbconvert_exporter": "python",
   "pygments_lexer": "ipython3",
   "version": "3.10.12"
  },
  "orig_nbformat": 4
 },
 "nbformat": 4,
 "nbformat_minor": 2
}
