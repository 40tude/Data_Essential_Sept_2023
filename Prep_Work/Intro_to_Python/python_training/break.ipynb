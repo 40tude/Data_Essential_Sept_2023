{
 "cells": [
  {
   "cell_type": "code",
   "execution_count": 1,
   "metadata": {},
   "outputs": [
    {
     "name": "stdout",
     "output_type": "stream",
     "text": [
      "['riri', 'fifi', 'loulou']\n",
      "fifi is at index 1\n",
      "\n",
      "fifi is NOT at index 0\n",
      "fifi is NOT at index 2\n"
     ]
    }
   ],
   "source": [
    "Noms = [\n",
    "    \"riri\",\n",
    "    \"fifi\",\n",
    "    \"loulou\"\n",
    "]\n",
    "print(Noms)\n",
    "\n",
    "SearchName = \"fifi\"\n",
    "for i, Nom in enumerate(Noms):\n",
    "    if (SearchName == Nom):\n",
    "        print(\"{} is at index {}\".format(SearchName, i))\n",
    "        break\n",
    "\n",
    "print()\n",
    "\n",
    "for i, Nom in enumerate(Noms):\n",
    "    if (SearchName == Nom):\n",
    "        continue\n",
    "    print(\"{} is NOT at index {}\".format(SearchName, i))\n",
    "            "
   ]
  }
 ],
 "metadata": {
  "kernelspec": {
   "display_name": "base",
   "language": "python",
   "name": "python3"
  },
  "language_info": {
   "codemirror_mode": {
    "name": "ipython",
    "version": 3
   },
   "file_extension": ".py",
   "mimetype": "text/x-python",
   "name": "python",
   "nbconvert_exporter": "python",
   "pygments_lexer": "ipython3",
   "version": "3.10.12"
  },
  "orig_nbformat": 4
 },
 "nbformat": 4,
 "nbformat_minor": 2
}
