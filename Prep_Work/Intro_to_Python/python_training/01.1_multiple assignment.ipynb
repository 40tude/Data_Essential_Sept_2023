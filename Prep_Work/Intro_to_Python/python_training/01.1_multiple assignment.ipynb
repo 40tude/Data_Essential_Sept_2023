{
 "cells": [
  {
   "cell_type": "code",
   "execution_count": 2,
   "metadata": {},
   "outputs": [
    {
     "name": "stdout",
     "output_type": "stream",
     "text": [
      "4 8\n"
     ]
    },
    {
     "data": {
      "text/plain": [
       "int"
      ]
     },
     "execution_count": 2,
     "metadata": {},
     "output_type": "execute_result"
    }
   ],
   "source": [
    "a, b = 4, 8\n",
    "print (a, b)\n",
    "type(a)\n"
   ]
  },
  {
   "cell_type": "code",
   "execution_count": null,
   "metadata": {},
   "outputs": [],
   "source": [
    "n = int(input(\"# of friends\"))\n",
    "amount = int(input (\"Amount spent\"))\n",
    "print (\"Per friend : {} €\".format(amount/n))"
   ]
  },
  {
   "cell_type": "code",
   "execution_count": 3,
   "metadata": {},
   "outputs": [
    {
     "name": "stdout",
     "output_type": "stream",
     "text": [
      "Per friend : 175.44444444444446 €\n"
     ]
    }
   ],
   "source": [
    "# bof\n",
    "\n",
    "# Un commentaire\n",
    "# Un autre\n",
    "\n",
    "n, amount =  int(input(\"# of friends\")), int(input (\"Amount spent\"))\n",
    "print (\"Per friend : {} €\".format(amount/n))"
   ]
  }
 ],
 "metadata": {
  "kernelspec": {
   "display_name": "base",
   "language": "python",
   "name": "python3"
  },
  "language_info": {
   "codemirror_mode": {
    "name": "ipython",
    "version": 3
   },
   "file_extension": ".py",
   "mimetype": "text/x-python",
   "name": "python",
   "nbconvert_exporter": "python",
   "pygments_lexer": "ipython3",
   "version": "3.10.9"
  },
  "orig_nbformat": 4
 },
 "nbformat": 4,
 "nbformat_minor": 2
}
