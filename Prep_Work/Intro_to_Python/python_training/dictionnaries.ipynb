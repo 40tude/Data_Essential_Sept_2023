{
 "cells": [
  {
   "cell_type": "code",
   "execution_count": 2,
   "metadata": {},
   "outputs": [
    {
     "name": "stdout",
     "output_type": "stream",
     "text": [
      "{'Prénom': 'Philippe', 'Montant': 155}\n",
      "Philippe\n",
      "{'Prénom': 'Philippe', 'Montant': 42}\n",
      "{'Prénom': 'Philippe', 'Montant': 42, 'Nom': 'BCR'}\n",
      "{'Prénom': 'Philippe', 'Montant': 42}\n",
      "BCR\n"
     ]
    }
   ],
   "source": [
    "friends = {\"Prénom\" : \"Philippe\", \"Montant\" : 155}\n",
    "print (friends)\n",
    "\n",
    "print(friends[\"Prénom\"])\n",
    "\n",
    "friends[\"Montant\"] = 42\n",
    "print (friends)\n",
    "\n",
    "friends[\"Nom\"] = \"BCR\"\n",
    "print (friends)\n",
    "\n",
    "MonNom = friends.pop(\"Nom\")\n",
    "print (friends)\n",
    "print (MonNom)\n",
    "\n",
    "\n"
   ]
  },
  {
   "cell_type": "code",
   "execution_count": 6,
   "metadata": {},
   "outputs": [
    {
     "name": "stdout",
     "output_type": "stream",
     "text": [
      "{'Nom': 'azeaze', 'Montant': 78}\n",
      "{'Nom': 'qsdqsd', 'Montant': 45}\n",
      "{'Nom': 'wxcwxc', 'Montant': 12}\n",
      "[{'Nom': 'azeaze', 'Montant': 78}, {'Nom': 'qsdqsd', 'Montant': 45}, {'Nom': 'wxcwxc', 'Montant': 12}]\n"
     ]
    }
   ],
   "source": [
    "# list de dictionnaires (de struct)\n",
    "Nom = input(\"Nom \")\n",
    "Montant = int(input(\"Montant \")) \n",
    "pers1 = {\"Nom\" : Nom, \"Montant\" : Montant}\n",
    "print(pers1) \n",
    "\n",
    "MaListe=[]\n",
    "MaListe.append(pers1)\n",
    "\n",
    "Nom = input(\"Nom \")\n",
    "Montant = int(input(\"Montant \")) \n",
    "pers2 = {\"Nom\" : Nom, \"Montant\" : Montant}\n",
    "print(pers2) \n",
    "MaListe.append(pers2)\n",
    "\n",
    "pers3 = {\"Nom\" : input(\"Nom \") , \"Montant\" : int(input(\"Montant \"))}\n",
    "print(pers3) \n",
    "MaListe.append(pers3)\n",
    "\n",
    "print(MaListe)\n"
   ]
  },
  {
   "cell_type": "code",
   "execution_count": 5,
   "metadata": {},
   "outputs": [
    {
     "name": "stdout",
     "output_type": "stream",
     "text": [
      "[{'Name': 'azeazeaze'}, {'Amount': '789'}, {'Name': ' wxcwxcwxc'}, {'Amount': '456'}]\n"
     ]
    }
   ],
   "source": [
    "Noms = input(\"2 noms : \")\n",
    "Montants = input(\"2 montants : \") \n",
    "\n",
    "ListOfNames = Noms.split(\",\")\n",
    "ListOfAmounts = Montants.split(\",\")\n",
    "\n",
    "MaListe=[\n",
    "    {\"Name\":ListOfNames[0]}, {\"Amount\":ListOfAmounts[0]},\n",
    "    {\"Name\":ListOfNames[1]}, {\"Amount\":ListOfAmounts[1]},\n",
    "]\n",
    "\n",
    "print(MaListe)\n",
    "\n",
    "\n",
    " \n"
   ]
  }
 ],
 "metadata": {
  "kernelspec": {
   "display_name": "base",
   "language": "python",
   "name": "python3"
  },
  "language_info": {
   "codemirror_mode": {
    "name": "ipython",
    "version": 3
   },
   "file_extension": ".py",
   "mimetype": "text/x-python",
   "name": "python",
   "nbconvert_exporter": "python",
   "pygments_lexer": "ipython3",
   "version": "3.10.12"
  },
  "orig_nbformat": 4
 },
 "nbformat": 4,
 "nbformat_minor": 2
}
