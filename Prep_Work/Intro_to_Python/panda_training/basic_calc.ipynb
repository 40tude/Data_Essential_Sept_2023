{
 "cells": [
  {
   "cell_type": "markdown",
   "metadata": {},
   "source": [
    "Un dataframe c'est un dictionnaire.\n",
    "\n",
    "Chaque clé est une colonne. Ensuite on a les valeurs. Il faut donc le même nb de valeurs dans chauqe colonne."
   ]
  },
  {
   "cell_type": "code",
   "execution_count": 31,
   "metadata": {},
   "outputs": [
    {
     "name": "stdout",
     "output_type": "stream",
     "text": [
      "   MaColonne1  MaColonne2\n",
      "0          41         100\n",
      "1          42         200\n",
      "2          43         300\n",
      "200.0\n",
      "200.0\n",
      "   MaColonne2  MaColonne1\n",
      "0         100          41\n",
      "1         200          42\n",
      "2         300          43\n",
      "       MaColonne1  MaColonne2\n",
      "count         3.0         3.0\n",
      "mean         42.0       200.0\n",
      "std           1.0       100.0\n",
      "min          41.0       100.0\n",
      "25%          41.5       150.0\n",
      "50%          42.0       200.0\n",
      "75%          42.5       250.0\n",
      "max          43.0       300.0\n",
      "300\n",
      "0    41\n",
      "1    42\n",
      "Name: MaColonne1, dtype: int64\n",
      "0    100\n",
      "1    200\n",
      "2    300\n",
      "Name: MaColonne2, dtype: int64\n"
     ]
    }
   ],
   "source": [
    "import pandas as pd\n",
    "MyDf = pd.DataFrame({\n",
    "  \"MaColonne1\" : [41, 42, 43],\n",
    "  \"MaColonne2\" : [100, 200, 300],\n",
    "})\n",
    "print(MyDf)\n",
    "MyDf.mean()\n",
    "print(MyDf['MaColonne2'].mean())\n",
    "\n",
    "# Attention c'est .loc et pas .iloc \n",
    "# iloc : index\n",
    "# loc  : nom des colonnes\n",
    "print(MyDf.loc[:, 'MaColonne2'].mean())\n",
    "print(MyDf.loc[:, ['MaColonne2', 'MaColonne1']])\n",
    "print(MyDf.describe())\n",
    "\n",
    "# ligne , colonne\n",
    "print(MyDf.iloc[2, 1])\n",
    "\n",
    "# [ligne_start:ligne_end[ , [colonne_start:colonne_end[\n",
    "print(MyDf.iloc[0:2, 0])\n",
    "\n",
    "# Un dataframe avec une seule colonne c'est une série\n",
    "\n",
    "# [ligne_start:ligne_end[ , [colonne_start:colonne_end[\n",
    "print(MyDf.iloc[:, 1])"
   ]
  },
  {
   "cell_type": "code",
   "execution_count": 3,
   "metadata": {},
   "outputs": [
    {
     "data": {
      "text/html": [
       "<div>\n",
       "<style scoped>\n",
       "    .dataframe tbody tr th:only-of-type {\n",
       "        vertical-align: middle;\n",
       "    }\n",
       "\n",
       "    .dataframe tbody tr th {\n",
       "        vertical-align: top;\n",
       "    }\n",
       "\n",
       "    .dataframe thead th {\n",
       "        text-align: right;\n",
       "    }\n",
       "</style>\n",
       "<table border=\"1\" class=\"dataframe\">\n",
       "  <thead>\n",
       "    <tr style=\"text-align: right;\">\n",
       "      <th></th>\n",
       "      <th>Unnamed: 0</th>\n",
       "      <th>dateRep</th>\n",
       "      <th>day</th>\n",
       "      <th>month</th>\n",
       "      <th>year</th>\n",
       "      <th>cases</th>\n",
       "      <th>deaths</th>\n",
       "      <th>countriesAndTerritories</th>\n",
       "      <th>geoId</th>\n",
       "      <th>countryterritoryCode</th>\n",
       "      <th>popData2018</th>\n",
       "      <th>continentExp</th>\n",
       "    </tr>\n",
       "  </thead>\n",
       "  <tbody>\n",
       "    <tr>\n",
       "      <th>0</th>\n",
       "      <td>1257</td>\n",
       "      <td>2020-04-23</td>\n",
       "      <td>23</td>\n",
       "      <td>4</td>\n",
       "      <td>2020</td>\n",
       "      <td>933</td>\n",
       "      <td>264</td>\n",
       "      <td>Belgium</td>\n",
       "      <td>BE</td>\n",
       "      <td>BEL</td>\n",
       "      <td>11422068.0</td>\n",
       "      <td>Europe</td>\n",
       "    </tr>\n",
       "    <tr>\n",
       "      <th>1</th>\n",
       "      <td>1258</td>\n",
       "      <td>2020-04-22</td>\n",
       "      <td>22</td>\n",
       "      <td>4</td>\n",
       "      <td>2020</td>\n",
       "      <td>973</td>\n",
       "      <td>170</td>\n",
       "      <td>Belgium</td>\n",
       "      <td>BE</td>\n",
       "      <td>BEL</td>\n",
       "      <td>11422068.0</td>\n",
       "      <td>Europe</td>\n",
       "    </tr>\n",
       "    <tr>\n",
       "      <th>2</th>\n",
       "      <td>1259</td>\n",
       "      <td>2020-04-21</td>\n",
       "      <td>21</td>\n",
       "      <td>4</td>\n",
       "      <td>2020</td>\n",
       "      <td>1487</td>\n",
       "      <td>145</td>\n",
       "      <td>Belgium</td>\n",
       "      <td>BE</td>\n",
       "      <td>BEL</td>\n",
       "      <td>11422068.0</td>\n",
       "      <td>Europe</td>\n",
       "    </tr>\n",
       "    <tr>\n",
       "      <th>3</th>\n",
       "      <td>1260</td>\n",
       "      <td>2020-04-20</td>\n",
       "      <td>20</td>\n",
       "      <td>4</td>\n",
       "      <td>2020</td>\n",
       "      <td>1313</td>\n",
       "      <td>230</td>\n",
       "      <td>Belgium</td>\n",
       "      <td>BE</td>\n",
       "      <td>BEL</td>\n",
       "      <td>11422068.0</td>\n",
       "      <td>Europe</td>\n",
       "    </tr>\n",
       "    <tr>\n",
       "      <th>4</th>\n",
       "      <td>1261</td>\n",
       "      <td>2020-04-19</td>\n",
       "      <td>19</td>\n",
       "      <td>4</td>\n",
       "      <td>2020</td>\n",
       "      <td>1045</td>\n",
       "      <td>290</td>\n",
       "      <td>Belgium</td>\n",
       "      <td>BE</td>\n",
       "      <td>BEL</td>\n",
       "      <td>11422068.0</td>\n",
       "      <td>Europe</td>\n",
       "    </tr>\n",
       "  </tbody>\n",
       "</table>\n",
       "</div>"
      ],
      "text/plain": [
       "   Unnamed: 0     dateRep  day  month  year  cases  deaths  \\\n",
       "0        1257  2020-04-23   23      4  2020    933     264   \n",
       "1        1258  2020-04-22   22      4  2020    973     170   \n",
       "2        1259  2020-04-21   21      4  2020   1487     145   \n",
       "3        1260  2020-04-20   20      4  2020   1313     230   \n",
       "4        1261  2020-04-19   19      4  2020   1045     290   \n",
       "\n",
       "  countriesAndTerritories geoId countryterritoryCode  popData2018 continentExp  \n",
       "0                 Belgium    BE                  BEL   11422068.0       Europe  \n",
       "1                 Belgium    BE                  BEL   11422068.0       Europe  \n",
       "2                 Belgium    BE                  BEL   11422068.0       Europe  \n",
       "3                 Belgium    BE                  BEL   11422068.0       Europe  \n",
       "4                 Belgium    BE                  BEL   11422068.0       Europe  "
      ]
     },
     "execution_count": 3,
     "metadata": {},
     "output_type": "execute_result"
    }
   ],
   "source": [
    "import pandas as pd\n",
    "#MyPath = \"c:\\\\Users\\\\phili\\\\OneDrive\\\\Documents\\\\Formations_JEDHA\\\\Data_Essential_Sept_2023\\\\Prep_Work\\\\Intro_to_Python\\\\panda_training\"\n",
    "MyPath = \"c:/Users/phili/OneDrive/Documents/Formations_JEDHA/Data_Essential_Sept_2023/Prep_Work/Intro_to_Python/panda_training\"\n",
    "Data = pd.read_csv(MyPath+\"/covid-19.csv\")\n",
    "Data.head()"
   ]
  },
  {
   "cell_type": "code",
   "execution_count": 2,
   "metadata": {},
   "outputs": [
    {
     "data": {
      "text/html": [
       "<div>\n",
       "<style scoped>\n",
       "    .dataframe tbody tr th:only-of-type {\n",
       "        vertical-align: middle;\n",
       "    }\n",
       "\n",
       "    .dataframe tbody tr th {\n",
       "        vertical-align: top;\n",
       "    }\n",
       "\n",
       "    .dataframe thead th {\n",
       "        text-align: right;\n",
       "    }\n",
       "</style>\n",
       "<table border=\"1\" class=\"dataframe\">\n",
       "  <thead>\n",
       "    <tr style=\"text-align: right;\">\n",
       "      <th></th>\n",
       "      <th>Unnamed: 0</th>\n",
       "      <th>day</th>\n",
       "      <th>month</th>\n",
       "      <th>year</th>\n",
       "      <th>cases</th>\n",
       "      <th>deaths</th>\n",
       "      <th>popData2018</th>\n",
       "    </tr>\n",
       "  </thead>\n",
       "  <tbody>\n",
       "    <tr>\n",
       "      <th>count</th>\n",
       "      <td>690.000000</td>\n",
       "      <td>690.000000</td>\n",
       "      <td>690.000000</td>\n",
       "      <td>690.000000</td>\n",
       "      <td>690.000000</td>\n",
       "      <td>690.000000</td>\n",
       "      <td>6.900000e+02</td>\n",
       "    </tr>\n",
       "    <tr>\n",
       "      <th>mean</th>\n",
       "      <td>7785.666667</td>\n",
       "      <td>15.078261</td>\n",
       "      <td>2.486957</td>\n",
       "      <td>2019.991304</td>\n",
       "      <td>2221.565217</td>\n",
       "      <td>201.866667</td>\n",
       "      <td>9.653679e+07</td>\n",
       "    </tr>\n",
       "    <tr>\n",
       "      <th>std</th>\n",
       "      <td>4174.782873</td>\n",
       "      <td>8.616804</td>\n",
       "      <td>1.405144</td>\n",
       "      <td>0.092912</td>\n",
       "      <td>5717.666660</td>\n",
       "      <td>446.431768</td>\n",
       "      <td>1.049538e+08</td>\n",
       "    </tr>\n",
       "    <tr>\n",
       "      <th>min</th>\n",
       "      <td>1257.000000</td>\n",
       "      <td>1.000000</td>\n",
       "      <td>1.000000</td>\n",
       "      <td>2019.000000</td>\n",
       "      <td>0.000000</td>\n",
       "      <td>0.000000</td>\n",
       "      <td>1.142207e+07</td>\n",
       "    </tr>\n",
       "    <tr>\n",
       "      <th>25%</th>\n",
       "      <td>4200.250000</td>\n",
       "      <td>8.000000</td>\n",
       "      <td>1.000000</td>\n",
       "      <td>2020.000000</td>\n",
       "      <td>0.000000</td>\n",
       "      <td>0.000000</td>\n",
       "      <td>4.672375e+07</td>\n",
       "    </tr>\n",
       "    <tr>\n",
       "      <th>50%</th>\n",
       "      <td>8482.500000</td>\n",
       "      <td>15.000000</td>\n",
       "      <td>2.000000</td>\n",
       "      <td>2020.000000</td>\n",
       "      <td>3.000000</td>\n",
       "      <td>0.000000</td>\n",
       "      <td>6.346014e+07</td>\n",
       "    </tr>\n",
       "    <tr>\n",
       "      <th>75%</th>\n",
       "      <td>12040.750000</td>\n",
       "      <td>22.000000</td>\n",
       "      <td>3.000000</td>\n",
       "      <td>2020.000000</td>\n",
       "      <td>1870.000000</td>\n",
       "      <td>202.750000</td>\n",
       "      <td>6.698724e+07</td>\n",
       "    </tr>\n",
       "    <tr>\n",
       "      <th>max</th>\n",
       "      <td>12251.000000</td>\n",
       "      <td>31.000000</td>\n",
       "      <td>12.000000</td>\n",
       "      <td>2020.000000</td>\n",
       "      <td>37289.000000</td>\n",
       "      <td>4928.000000</td>\n",
       "      <td>3.271674e+08</td>\n",
       "    </tr>\n",
       "  </tbody>\n",
       "</table>\n",
       "</div>"
      ],
      "text/plain": [
       "         Unnamed: 0         day       month         year         cases  \\\n",
       "count    690.000000  690.000000  690.000000   690.000000    690.000000   \n",
       "mean    7785.666667   15.078261    2.486957  2019.991304   2221.565217   \n",
       "std     4174.782873    8.616804    1.405144     0.092912   5717.666660   \n",
       "min     1257.000000    1.000000    1.000000  2019.000000      0.000000   \n",
       "25%     4200.250000    8.000000    1.000000  2020.000000      0.000000   \n",
       "50%     8482.500000   15.000000    2.000000  2020.000000      3.000000   \n",
       "75%    12040.750000   22.000000    3.000000  2020.000000   1870.000000   \n",
       "max    12251.000000   31.000000   12.000000  2020.000000  37289.000000   \n",
       "\n",
       "            deaths   popData2018  \n",
       "count   690.000000  6.900000e+02  \n",
       "mean    201.866667  9.653679e+07  \n",
       "std     446.431768  1.049538e+08  \n",
       "min       0.000000  1.142207e+07  \n",
       "25%       0.000000  4.672375e+07  \n",
       "50%       0.000000  6.346014e+07  \n",
       "75%     202.750000  6.698724e+07  \n",
       "max    4928.000000  3.271674e+08  "
      ]
     },
     "execution_count": 2,
     "metadata": {},
     "output_type": "execute_result"
    }
   ],
   "source": [
    "Data.describe()"
   ]
  },
  {
   "cell_type": "code",
   "execution_count": 3,
   "metadata": {},
   "outputs": [
    {
     "name": "stderr",
     "output_type": "stream",
     "text": [
      "C:\\Users\\phili\\AppData\\Local\\Temp\\ipykernel_21352\\2719148412.py:1: FutureWarning: The default value of numeric_only in DataFrame.mean is deprecated. In a future version, it will default to False. In addition, specifying 'numeric_only=None' is deprecated. Select only valid columns or specify the value of numeric_only to silence this warning.\n",
      "  Data.mean()\n"
     ]
    },
    {
     "data": {
      "text/plain": [
       "Unnamed: 0     7.785667e+03\n",
       "day            1.507826e+01\n",
       "month          2.486957e+00\n",
       "year           2.019991e+03\n",
       "cases          2.221565e+03\n",
       "deaths         2.018667e+02\n",
       "popData2018    9.653679e+07\n",
       "dtype: float64"
      ]
     },
     "execution_count": 3,
     "metadata": {},
     "output_type": "execute_result"
    }
   ],
   "source": [
    "Data.mean()\n"
   ]
  },
  {
   "cell_type": "code",
   "execution_count": 5,
   "metadata": {},
   "outputs": [
    {
     "name": "stderr",
     "output_type": "stream",
     "text": [
      "C:\\Users\\phili\\AppData\\Local\\Temp\\ipykernel_2100\\4147039530.py:1: FutureWarning: The default value of numeric_only in DataFrame.std is deprecated. In a future version, it will default to False. In addition, specifying 'numeric_only=None' is deprecated. Select only valid columns or specify the value of numeric_only to silence this warning.\n",
      "  Data.std()\n"
     ]
    },
    {
     "data": {
      "text/plain": [
       "Unnamed: 0     4.174783e+03\n",
       "day            8.616804e+00\n",
       "month          1.405144e+00\n",
       "year           9.291151e-02\n",
       "cases          5.717667e+03\n",
       "deaths         4.464318e+02\n",
       "popData2018    1.049538e+08\n",
       "dtype: float64"
      ]
     },
     "execution_count": 5,
     "metadata": {},
     "output_type": "execute_result"
    }
   ],
   "source": [
    "Data.std()\n"
   ]
  },
  {
   "cell_type": "code",
   "execution_count": 8,
   "metadata": {},
   "outputs": [
    {
     "data": {
      "text/plain": [
       "1532880"
      ]
     },
     "execution_count": 8,
     "metadata": {},
     "output_type": "execute_result"
    }
   ],
   "source": [
    "Data[\"cases\"].sum()\n"
   ]
  },
  {
   "cell_type": "code",
   "execution_count": 9,
   "metadata": {},
   "outputs": [
    {
     "data": {
      "text/plain": [
       "139288"
      ]
     },
     "execution_count": 9,
     "metadata": {},
     "output_type": "execute_result"
    }
   ],
   "source": [
    "Data[\"deaths\"].sum()"
   ]
  },
  {
   "cell_type": "code",
   "execution_count": 10,
   "metadata": {},
   "outputs": [
    {
     "data": {
      "text/plain": [
       "pandas.core.frame.DataFrame"
      ]
     },
     "execution_count": 10,
     "metadata": {},
     "output_type": "execute_result"
    }
   ],
   "source": [
    "type(Data)"
   ]
  }
 ],
 "metadata": {
  "kernelspec": {
   "display_name": "base",
   "language": "python",
   "name": "python3"
  },
  "language_info": {
   "codemirror_mode": {
    "name": "ipython",
    "version": 3
   },
   "file_extension": ".py",
   "mimetype": "text/x-python",
   "name": "python",
   "nbconvert_exporter": "python",
   "pygments_lexer": "ipython3",
   "version": "3.10.12"
  },
  "orig_nbformat": 4
 },
 "nbformat": 4,
 "nbformat_minor": 2
}
