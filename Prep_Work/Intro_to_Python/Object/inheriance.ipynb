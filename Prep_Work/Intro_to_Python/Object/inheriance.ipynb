{
 "cells": [
  {
   "cell_type": "code",
   "execution_count": 2,
   "metadata": {},
   "outputs": [],
   "source": [
    "class BasicMath():\n",
    "    def __init__(self, x, y):\n",
    "        self.a = x\n",
    "        self.b = y\n",
    "    \n",
    "    def add(self):\n",
    "        return self.a + self.b\n",
    "    \n",
    "    def sub(self):\n",
    "        return self.a - self.b"
   ]
  },
  {
   "cell_type": "code",
   "execution_count": 9,
   "metadata": {},
   "outputs": [],
   "source": [
    "class AdvancedMath(BasicMath):\n",
    "    def __init__(self, x, y, z):\n",
    "      super().__init__(x, y)\n",
    "      self.c = z\n",
    "    \n",
    "    def mult(self):\n",
    "      return self.a * self.b\n",
    "    \n",
    "    def comp(self):\n",
    "       return self.a < self.c"
   ]
  },
  {
   "cell_type": "code",
   "execution_count": 12,
   "metadata": {},
   "outputs": [
    {
     "name": "stdout",
     "output_type": "stream",
     "text": [
      "27\n",
      "12\n",
      "False\n"
     ]
    }
   ],
   "source": [
    "bob = AdvancedMath(3, 9, 1)\n",
    "print(bob.mult())\n",
    "print(bob.add())\n",
    "print(bob.comp())"
   ]
  }
 ],
 "metadata": {
  "kernelspec": {
   "display_name": "base",
   "language": "python",
   "name": "python3"
  },
  "language_info": {
   "codemirror_mode": {
    "name": "ipython",
    "version": 3
   },
   "file_extension": ".py",
   "mimetype": "text/x-python",
   "name": "python",
   "nbconvert_exporter": "python",
   "pygments_lexer": "ipython3",
   "version": "3.10.9"
  },
  "orig_nbformat": 4
 },
 "nbformat": 4,
 "nbformat_minor": 2
}
