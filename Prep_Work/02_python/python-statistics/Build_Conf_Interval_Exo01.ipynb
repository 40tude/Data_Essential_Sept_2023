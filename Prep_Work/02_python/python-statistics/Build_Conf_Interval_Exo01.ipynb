{
 "cells": [
  {
   "cell_type": "markdown",
   "metadata": {},
   "source": [
    "* Open the Hours spent on Facebook.xlsx file.\n",
    "* Calculate the mean and standard deviation of the corresponding column.\n",
    "* We would like to know the mean of the total population. Calculate the 95% confidence interval."
   ]
  },
  {
   "cell_type": "code",
   "execution_count": 30,
   "metadata": {},
   "outputs": [
    {
     "data": {
      "text/html": [
       "<div>\n",
       "<style scoped>\n",
       "    .dataframe tbody tr th:only-of-type {\n",
       "        vertical-align: middle;\n",
       "    }\n",
       "\n",
       "    .dataframe tbody tr th {\n",
       "        vertical-align: top;\n",
       "    }\n",
       "\n",
       "    .dataframe thead th {\n",
       "        text-align: right;\n",
       "    }\n",
       "</style>\n",
       "<table border=\"1\" class=\"dataframe\">\n",
       "  <thead>\n",
       "    <tr style=\"text-align: right;\">\n",
       "      <th></th>\n",
       "      <th>Customer</th>\n",
       "      <th>Hours spent on Facebook on Mobile</th>\n",
       "    </tr>\n",
       "  </thead>\n",
       "  <tbody>\n",
       "    <tr>\n",
       "      <th>0</th>\n",
       "      <td>1</td>\n",
       "      <td>4.092475</td>\n",
       "    </tr>\n",
       "    <tr>\n",
       "      <th>1</th>\n",
       "      <td>2</td>\n",
       "      <td>7.233371</td>\n",
       "    </tr>\n",
       "    <tr>\n",
       "      <th>2</th>\n",
       "      <td>3</td>\n",
       "      <td>7.455792</td>\n",
       "    </tr>\n",
       "    <tr>\n",
       "      <th>3</th>\n",
       "      <td>4</td>\n",
       "      <td>7.253503</td>\n",
       "    </tr>\n",
       "    <tr>\n",
       "      <th>4</th>\n",
       "      <td>5</td>\n",
       "      <td>2.249682</td>\n",
       "    </tr>\n",
       "  </tbody>\n",
       "</table>\n",
       "</div>"
      ],
      "text/plain": [
       "   Customer   Hours spent on Facebook on Mobile\n",
       "0          1                           4.092475\n",
       "1          2                           7.233371\n",
       "2          3                           7.455792\n",
       "3          4                           7.253503\n",
       "4          5                           2.249682"
      ]
     },
     "execution_count": 30,
     "metadata": {},
     "output_type": "execute_result"
    }
   ],
   "source": [
    "# Open the Hours spent on Facebook.xlsx file.\n",
    "import os\n",
    "import pandas as pd\n",
    "MyPath = os.getcwd()\n",
    "Data = pd.read_excel (MyPath + \"/Hours Spent on Facebook.xlsx\")\n",
    "Data.head()"
   ]
  },
  {
   "cell_type": "code",
   "execution_count": 31,
   "metadata": {},
   "outputs": [
    {
     "name": "stdout",
     "output_type": "stream",
     "text": [
      "Nb d'heures en moyenne          : 4.85 heures\n",
      "Ecart type (standard déviation) : 2.98 heures\n"
     ]
    }
   ],
   "source": [
    "# Calculate the mean and standard deviation of the corresponding column.\n",
    "\n",
    "# Each of the 3 lines below works. The later one is safer since it avoid typo in the column's name\n",
    "# Mean = Data[\"Hours spent on Facebook on Mobile\"].mean()\n",
    "# Mean = Data.loc[ : , \"Hours spent on Facebook on Mobile\"].mean()\n",
    "Mean = Data.iloc[:, 1].mean()\n",
    "print(f\"Nb d'heures en moyenne          : {Mean:.2f} heures\")\n",
    "\n",
    "Std = Data.iloc[:, 1].std()\n",
    "print(f\"Ecart type (standard déviation) : {Std:.2f} heures\")\n"
   ]
  },
  {
   "cell_type": "code",
   "execution_count": 32,
   "metadata": {},
   "outputs": [
    {
     "name": "stdout",
     "output_type": "stream",
     "text": [
      "Intervale de confiance à 95% : [4.27 , 5.43]\n"
     ]
    }
   ],
   "source": [
    "# We would like to know the mean of the total population. Calculate the 95% confidence interval.\n",
    "# Since n>30, t=Z score\n",
    "# E = t * s/sqrt(n)\n",
    "# 95% confidence level => Z = 1.96\n",
    "\n",
    "E = 1.96 * Std/(len(Data)**.5)\n",
    "print(f\"Intervale de confiance à 95% : [{Mean-E:.2f} , {Mean+E:.2f}]\")"
   ]
  }
 ],
 "metadata": {
  "kernelspec": {
   "display_name": "base",
   "language": "python",
   "name": "python3"
  },
  "language_info": {
   "codemirror_mode": {
    "name": "ipython",
    "version": 3
   },
   "file_extension": ".py",
   "mimetype": "text/x-python",
   "name": "python",
   "nbconvert_exporter": "python",
   "pygments_lexer": "ipython3",
   "version": "3.10.12"
  },
  "orig_nbformat": 4
 },
 "nbformat": 4,
 "nbformat_minor": 2
}
