{
 "cells": [
  {
   "cell_type": "markdown",
   "metadata": {},
   "source": [
    "Google would like to know the mean monthly revenue generated per client on their Adwords platform. \n",
    "\n",
    "Due to lack of time, they have launched a questionnaire on only **31 people**.\n",
    "\n",
    "* Open the monthly_spending_adwords.xlsx file.\n",
    "* Calculate the mean and standard deviation of the corresponding column.\n",
    "* We would like to know the mean of the total population. Calculate the 95% confidence interval.\n"
   ]
  },
  {
   "cell_type": "code",
   "execution_count": 1,
   "metadata": {},
   "outputs": [
    {
     "data": {
      "text/html": [
       "<div>\n",
       "<style scoped>\n",
       "    .dataframe tbody tr th:only-of-type {\n",
       "        vertical-align: middle;\n",
       "    }\n",
       "\n",
       "    .dataframe tbody tr th {\n",
       "        vertical-align: top;\n",
       "    }\n",
       "\n",
       "    .dataframe thead th {\n",
       "        text-align: right;\n",
       "    }\n",
       "</style>\n",
       "<table border=\"1\" class=\"dataframe\">\n",
       "  <thead>\n",
       "    <tr style=\"text-align: right;\">\n",
       "      <th></th>\n",
       "      <th>Monthly spending</th>\n",
       "    </tr>\n",
       "  </thead>\n",
       "  <tbody>\n",
       "    <tr>\n",
       "      <th>0</th>\n",
       "      <td>562.460391</td>\n",
       "    </tr>\n",
       "    <tr>\n",
       "      <th>1</th>\n",
       "      <td>382.543660</td>\n",
       "    </tr>\n",
       "    <tr>\n",
       "      <th>2</th>\n",
       "      <td>947.684175</td>\n",
       "    </tr>\n",
       "    <tr>\n",
       "      <th>3</th>\n",
       "      <td>425.084351</td>\n",
       "    </tr>\n",
       "    <tr>\n",
       "      <th>4</th>\n",
       "      <td>546.562302</td>\n",
       "    </tr>\n",
       "  </tbody>\n",
       "</table>\n",
       "</div>"
      ],
      "text/plain": [
       "   Monthly spending\n",
       "0        562.460391\n",
       "1        382.543660\n",
       "2        947.684175\n",
       "3        425.084351\n",
       "4        546.562302"
      ]
     },
     "execution_count": 1,
     "metadata": {},
     "output_type": "execute_result"
    }
   ],
   "source": [
    "# Open the monthly_spending_adwords.xlsx file\n",
    "import os\n",
    "import pandas as pd\n",
    "MyPath = os.getcwd()\n",
    "Data = pd.read_excel (MyPath + \"/Monthly spending on adwords.xlsx\")\n",
    "Data.head()"
   ]
  },
  {
   "cell_type": "code",
   "execution_count": 3,
   "metadata": {},
   "outputs": [
    {
     "name": "stdout",
     "output_type": "stream",
     "text": [
      "Moyenne des dépenses mensuelles : 491.77 (€)\n",
      "Ecart type (standard déviation) : 253.96 (€)\n"
     ]
    }
   ],
   "source": [
    "# Calculate the mean and standard deviation of the corresponding column.\n",
    "Mean = Data.iloc[:, 0].mean()\n",
    "print(f\"Moyenne des dépenses mensuelles : {Mean:.2f} (€)\")\n",
    "\n",
    "Std = Data.iloc[:, 0].std()\n",
    "print(f\"Ecart type (standard déviation) : {Std:.2f} (€)\")\n"
   ]
  },
  {
   "cell_type": "code",
   "execution_count": 4,
   "metadata": {},
   "outputs": [
    {
     "name": "stdout",
     "output_type": "stream",
     "text": [
      "Intervale de confiance à 95% : [402.37 , 581.17]\n"
     ]
    }
   ],
   "source": [
    "# We would like to know the mean of the total population. Calculate the 95% confidence interval.\n",
    "# Since n>30, t=Z score\n",
    "# E = t * s/sqrt(n)\n",
    "# 95% confidence level => Z = 1.96\n",
    "\n",
    "E = 1.96 * Std/(len(Data)**.5)\n",
    "print(f\"Intervale de confiance à 95% : [{Mean-E:.2f} , {Mean+E:.2f}]\")"
   ]
  },
  {
   "cell_type": "code",
   "execution_count": 5,
   "metadata": {},
   "outputs": [
    {
     "name": "stdout",
     "output_type": "stream",
     "text": [
      "Intervale de confiance à 95% : [390.15 , 593.40]\n"
     ]
    }
   ],
   "source": [
    "# Let's make a test with the studend distribution since 31 is close to 30\n",
    "# On https://statdistributions.com/t/ we determine t when p=0.05 (95% confidence interval)\n",
    "# t = 2.228\n",
    "\n",
    "E = 2.228 * Std/(len(Data)**.5)\n",
    "print(f\"Intervale de confiance à 95% : [{Mean-E:.2f} , {Mean+E:.2f}]\")"
   ]
  }
 ],
 "metadata": {
  "kernelspec": {
   "display_name": "base",
   "language": "python",
   "name": "python3"
  },
  "language_info": {
   "codemirror_mode": {
    "name": "ipython",
    "version": 3
   },
   "file_extension": ".py",
   "mimetype": "text/x-python",
   "name": "python",
   "nbconvert_exporter": "python",
   "pygments_lexer": "ipython3",
   "version": "3.10.12"
  },
  "orig_nbformat": 4
 },
 "nbformat": 4,
 "nbformat_minor": 2
}
