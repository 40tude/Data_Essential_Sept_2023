{
 "cells": [
  {
   "cell_type": "markdown",
   "metadata": {},
   "source": [
    "Reference : https://app.jedha.co/course/a-b-testing-and-web-analytics-e/loan-control-with-qonto-e\n",
    "\n",
    "1. Import des lib\n",
    "1. Import Dataset\n",
    "1. Exploratory Data Analysis\n",
    "1. Define hypothesis\n",
    "1. Calculate Z-Score\n",
    "1. Set $\\alpha$ \n",
    "1. Compare p-value with $\\alpha$ \n",
    "\n"
   ]
  },
  {
   "cell_type": "markdown",
   "metadata": {},
   "source": [
    "## 1 - Import des lib"
   ]
  },
  {
   "cell_type": "code",
   "execution_count": 80,
   "metadata": {},
   "outputs": [],
   "source": [
    "# Import\n",
    "import pandas as pd\n",
    "import numpy as np\n",
    "import matplotlib.pyplot as plt\n",
    "#import seaborn as sns\n",
    "from statsmodels.stats.weightstats import ztest as ztest "
   ]
  },
  {
   "cell_type": "markdown",
   "metadata": {},
   "source": [
    "## 2 - Import dataset"
   ]
  },
  {
   "cell_type": "code",
   "execution_count": 87,
   "metadata": {},
   "outputs": [
    {
     "name": "stdout",
     "output_type": "stream",
     "text": [
      "   calls_abroad  calls_in_France\n",
      "0             4                6\n",
      "1             4                2\n",
      "2             4                9\n",
      "3             9                9\n",
      "4             2                9\n",
      "Il y a 70 échantillons\n"
     ]
    }
   ],
   "source": [
    "df = pd.read_csv (\"swile_sales_calls.csv\")\n",
    "print(df.head())\n",
    "print(f\"Il y a {len(df)} échantillons\" )"
   ]
  },
  {
   "cell_type": "markdown",
   "metadata": {},
   "source": [
    "## Step 3 - Exploratory Data Analysis (EDA)"
   ]
  },
  {
   "cell_type": "code",
   "execution_count": 82,
   "metadata": {},
   "outputs": [
    {
     "name": "stdout",
     "output_type": "stream",
     "text": [
      "Moyenne des appels : 5.50 \n",
      "Moyenne des appels FR : 5.79 \n"
     ]
    },
    {
     "data": {
      "text/plain": [
       "<Axes: >"
      ]
     },
     "execution_count": 82,
     "metadata": {},
     "output_type": "execute_result"
    },
    {
     "data": {
      "image/png": "[encoded data removed]",
      "text/plain": [
       "<Figure size 640x480 with 1 Axes>"
      ]
     },
     "metadata": {},
     "output_type": "display_data"
    }
   ],
   "source": [
    "df.describe()\n",
    "print(f\"Moyenne des appels : {df['calls_abroad'].mean():.02f} \") \n",
    "print(f\"Moyenne des appels FR : {df['calls_in_France'].mean():.02f} \") \n",
    "\n",
    "# y=[]\n",
    "# y.append(df['calls_abroad'].mean())\n",
    "# y.append(df['calls_in_France'].mean())\n",
    "# fig, ax = plt.subplots()\n",
    "# _ = ax.scatter ([1, 2], y, color='blue', alpha=.50)\n",
    "# ax.set(ylim=(4, 6))\n",
    "\n",
    "Means = df.mean()\n",
    "Means.plot(kind=\"bar\")\n"
   ]
  },
  {
   "cell_type": "markdown",
   "metadata": {},
   "source": [
    "## 4 - Define hypothesis\n",
    "Test whether the average number of calls in France is actually higher than the ones abroad.\n",
    "\n",
    "$$ H_1 : Calls FR - Calls WW > 0 $$\n",
    "$$ H_0 : Calls FR - Calls WW <= 0 $$\n",
    "\n",
    "On va tenter de rejeter $H_0$ ce qui prouvera que $H_1$ est vraie.\n",
    "\n",
    "### TO DO : À vérifier\n",
    "Dans le cours il est dit : \n",
    "\n",
    "* Only specifically for A/B test, you will consider the following:\n",
    "* $H_0$ : A-B = 0\n",
    "* $H_1$ : A-B < 0 or A-B > 0 (depending on your sample results)\n",
    "* The average conversion for A minus the average conversion for B is equal to 0, which would mean that your variation has no significative impact compared to your control variable."
   ]
  },
  {
   "cell_type": "markdown",
   "metadata": {},
   "source": [
    "## 5 - Calculate Z-score\n",
    "$$ Z = \\frac{\\bar{X}-\\mu}{\\frac{s}{\\sqrt{n}}}$$"
   ]
  },
  {
   "cell_type": "code",
   "execution_count": 83,
   "metadata": {},
   "outputs": [
    {
     "name": "stdout",
     "output_type": "stream",
     "text": [
      "Moyenne des appels FR : 5.79 \n",
      "Moyenne des appels FR : 2.05 \n",
      "Z-score = 1.166\n"
     ]
    }
   ],
   "source": [
    "# Calculate the average calls_in_France\n",
    "mean_sample = df['calls_in_France'].mean()\n",
    "print(f\"Moyenne des appels FR : {mean_sample:.02f} \") \n",
    "\n",
    "# Calculate the std of calls_in_France\n",
    "std_sample = df['calls_in_France'].std()\n",
    "print(f\"Moyenne des appels FR : {std_sample:.02f} \") \n",
    "\n",
    "\n",
    "# Find sample size n\n",
    "n = len(df)\n",
    "\n",
    "# Moyenne de la population\n",
    "mu_pop = df['calls_abroad'].mean()\n",
    "\n",
    "Z = (mean_sample - mu_pop) / (std_sample/n**.5)\n",
    "print(f\"Z-score = {Z:.3f}\")"
   ]
  },
  {
   "cell_type": "markdown",
   "metadata": {},
   "source": [
    "## 6 - Set $\\alpha$ \n",
    "Talking with Swile's marketing team, they told us that 10% seemed enough."
   ]
  },
  {
   "cell_type": "markdown",
   "metadata": {},
   "source": [
    "alpha = 0.10"
   ]
  },
  {
   "cell_type": "markdown",
   "metadata": {},
   "source": [
    "## 7 - Compare p-value to $\\alpha$"
   ]
  },
  {
   "cell_type": "code",
   "execution_count": 84,
   "metadata": {},
   "outputs": [
    {
     "name": "stdout",
     "output_type": "stream",
     "text": [
      "Z-score value is : 1.1665\n",
      "p_value value is : 0.1217\n"
     ]
    }
   ],
   "source": [
    "# https://www.statsmodels.org/dev/generated/statsmodels.stats.weightstats.ztest.html\n",
    "# In the one sample case, value is the mean of x1 under the Null hypothesis. \n",
    "# In the two sample case, value is the difference between mean of x1 and mean of x2 under the Null hypothesis\n",
    "# Alternative :\n",
    "#   ‘two-sided’: H1: difference in means not equal to value (default) \n",
    "#   ‘larger’   : H1: difference in means larger than value \n",
    "#   ‘smaller’  : H1: difference in means smaller than value\n",
    "\n",
    "\n",
    "z_score, p_value = ztest(df[\"calls_in_France\"], value = mu_pop, alternative=\"larger\" )\n",
    "print (f\"Z-score value is : {z_score:.4f}\")\n",
    "print (f\"p_value value is : {p_value:.4f}\")"
   ]
  },
  {
   "cell_type": "markdown",
   "metadata": {},
   "source": [
    "La p_value n'est pas inférieure à $\\alpha$ donc on ne peut pas rejeter l'hypothèse nulle."
   ]
  },
  {
   "cell_type": "markdown",
   "metadata": {},
   "source": [
    "## 8 - Visualize probability"
   ]
  },
  {
   "cell_type": "code",
   "execution_count": 85,
   "metadata": {},
   "outputs": [
    {
     "data": {
      "image/png": "[encoded data removed]",
      "text/plain": [
       "<Figure size 640x480 with 1 Axes>"
      ]
     },
     "metadata": {},
     "output_type": "display_data"
    }
   ],
   "source": [
    "from scipy.stats import norm\n",
    "  \n",
    "x_values = np.arange(-4, 4, 0.01)\n",
    "\n",
    "mean_target = 0\n",
    "std_target = 1\n",
    "y_values = norm.pdf(x_values, mean_target, std_target)\n",
    "\n",
    "\n",
    "fig, ax = plt.subplots()\n",
    "ax.plot(x_values, y_values, color='blue', alpha=1.00)\n",
    "ax.fill_between(x_values, y_values, 0, color='blue', alpha=.1)\n",
    "\n",
    "if(z_score<0) :\n",
    "  x_values2 = np.arange(-4, z_score, 0.01)\n",
    "else:\n",
    "  x_values2 = np.arange(z_score, 4, 0.01)\n",
    "\n",
    "y_values2 = norm.pdf(x_values2, mean_target, std_target)\n",
    "ax.plot(x_values2, y_values2, color='red', alpha=1.00)\n",
    "ax.fill_between(x_values2, y_values2, 0, color='red', alpha=.1)\n",
    "\n",
    "plt.show()"
   ]
  },
  {
   "cell_type": "code",
   "execution_count": null,
   "metadata": {},
   "outputs": [],
   "source": []
  }
 ],
 "metadata": {
  "kernelspec": {
   "display_name": "base",
   "language": "python",
   "name": "python3"
  },
  "language_info": {
   "codemirror_mode": {
    "name": "ipython",
    "version": 3
   },
   "file_extension": ".py",
   "mimetype": "text/x-python",
   "name": "python",
   "nbconvert_exporter": "python",
   "pygments_lexer": "ipython3",
   "version": "3.10.12"
  },
  "orig_nbformat": 4
 },
 "nbformat": 4,
 "nbformat_minor": 2
}
