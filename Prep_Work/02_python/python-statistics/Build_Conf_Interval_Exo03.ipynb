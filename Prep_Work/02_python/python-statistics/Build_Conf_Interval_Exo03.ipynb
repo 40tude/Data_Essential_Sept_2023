{
 "cells": [
  {
   "cell_type": "markdown",
   "metadata": {},
   "source": [
    "Nintendo is building their new console. However, the last console they launched was a disaster because no one bought it. \n",
    "\n",
    "This time, Nintendo would like to know how many cities they would have to survey to be **95%** sure that they will build the right number of systems. \n",
    "\n",
    "The company will accept an **error of 5000 consoles**.\n",
    "\n",
    "* Open the Number of switch sold.xlsx file.\n",
    "* Calculate the mean and standard deviation of the corresponding column.\n",
    "* Set the margin of error to 5000.\n",
    "* Find the minimum number of cities to study."
   ]
  },
  {
   "cell_type": "code",
   "execution_count": 1,
   "metadata": {},
   "outputs": [
    {
     "data": {
      "text/html": [
       "<div>\n",
       "<style scoped>\n",
       "    .dataframe tbody tr th:only-of-type {\n",
       "        vertical-align: middle;\n",
       "    }\n",
       "\n",
       "    .dataframe tbody tr th {\n",
       "        vertical-align: top;\n",
       "    }\n",
       "\n",
       "    .dataframe thead th {\n",
       "        text-align: right;\n",
       "    }\n",
       "</style>\n",
       "<table border=\"1\" class=\"dataframe\">\n",
       "  <thead>\n",
       "    <tr style=\"text-align: right;\">\n",
       "      <th></th>\n",
       "      <th>City</th>\n",
       "      <th>Number of sales</th>\n",
       "    </tr>\n",
       "  </thead>\n",
       "  <tbody>\n",
       "    <tr>\n",
       "      <th>0</th>\n",
       "      <td>New York</td>\n",
       "      <td>65538.794054</td>\n",
       "    </tr>\n",
       "    <tr>\n",
       "      <th>1</th>\n",
       "      <td>San Francisco</td>\n",
       "      <td>45709.289870</td>\n",
       "    </tr>\n",
       "    <tr>\n",
       "      <th>2</th>\n",
       "      <td>Seattle</td>\n",
       "      <td>87417.957092</td>\n",
       "    </tr>\n",
       "    <tr>\n",
       "      <th>3</th>\n",
       "      <td>Denver</td>\n",
       "      <td>96461.186529</td>\n",
       "    </tr>\n",
       "    <tr>\n",
       "      <th>4</th>\n",
       "      <td>Austin</td>\n",
       "      <td>3665.528408</td>\n",
       "    </tr>\n",
       "  </tbody>\n",
       "</table>\n",
       "</div>"
      ],
      "text/plain": [
       "            City  Number of sales\n",
       "0       New York     65538.794054\n",
       "1  San Francisco     45709.289870\n",
       "2       Seattle      87417.957092\n",
       "3        Denver      96461.186529\n",
       "4        Austin       3665.528408"
      ]
     },
     "execution_count": 1,
     "metadata": {},
     "output_type": "execute_result"
    }
   ],
   "source": [
    "# Open the monthly_spending_adwords.xlsx file\n",
    "import os\n",
    "import pandas as pd\n",
    "MyPath = os.getcwd()\n",
    "Data = pd.read_excel (MyPath + \"/Number of switch sold.xlsx\")\n",
    "Data.head()"
   ]
  },
  {
   "cell_type": "code",
   "execution_count": 3,
   "metadata": {},
   "outputs": [
    {
     "name": "stdout",
     "output_type": "stream",
     "text": [
      "Nb moyen de consoles vendues    : 42996.94 unités\n",
      "Ecart type (standard déviation) : 28365.34 unités\n"
     ]
    }
   ],
   "source": [
    "# Calculate the mean and standard deviation of the corresponding column.\n",
    "Mean = Data.iloc[:, 1].mean()\n",
    "print(f\"Nb moyen de consoles vendues    : {Mean:.2f} unités\")\n",
    "\n",
    "Std = Data.iloc[:, 1].std()\n",
    "print(f\"Ecart type (standard déviation) : {Std:.2f} unités\")\n"
   ]
  },
  {
   "cell_type": "code",
   "execution_count": 10,
   "metadata": {},
   "outputs": [
    {
     "name": "stdout",
     "output_type": "stream",
     "text": [
      "Nb de villes à étudier : 124\n"
     ]
    }
   ],
   "source": [
    "# Set the margin of error to 5000\n",
    "# Find the minimum number of cities to study\n",
    "\n",
    "# E = t * s/sqrt(n) => n = (t * s /E)²\n",
    "# 95% confidence level => Z = 1.96\n",
    "\n",
    "n =  (1.96*Std/5000)**2\n",
    "print(f\"Nb de villes à étudier : {n:.0f}\")"
   ]
  }
 ],
 "metadata": {
  "kernelspec": {
   "display_name": "base",
   "language": "python",
   "name": "python3"
  },
  "language_info": {
   "codemirror_mode": {
    "name": "ipython",
    "version": 3
   },
   "file_extension": ".py",
   "mimetype": "text/x-python",
   "name": "python",
   "nbconvert_exporter": "python",
   "pygments_lexer": "ipython3",
   "version": "3.10.12"
  },
  "orig_nbformat": 4
 },
 "nbformat": 4,
 "nbformat_minor": 2
}
