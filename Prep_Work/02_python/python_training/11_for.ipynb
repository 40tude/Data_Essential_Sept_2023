{
 "cells": [
  {
   "cell_type": "code",
   "execution_count": 3,
   "metadata": {},
   "outputs": [],
   "source": [
    "MaListe = [\"Riri\", \"Fifi\", \"Loulou\"]"
   ]
  },
  {
   "cell_type": "code",
   "execution_count": 5,
   "metadata": {},
   "outputs": [
    {
     "name": "stdout",
     "output_type": "stream",
     "text": [
      "Riri\n",
      "Fifi\n",
      "Loulou\n"
     ]
    }
   ],
   "source": [
    "\n",
    "for item in MaListe:\n",
    "    print (item)"
   ]
  },
  {
   "cell_type": "code",
   "execution_count": 7,
   "metadata": {},
   "outputs": [
    {
     "name": "stdout",
     "output_type": "stream",
     "text": [
      "Riri\n",
      "Fifi\n",
      "Loulou\n"
     ]
    }
   ],
   "source": [
    "n = len(MaListe)\n",
    "for i in range(n):\n",
    "    print(MaListe[i])"
   ]
  },
  {
   "cell_type": "code",
   "execution_count": 10,
   "metadata": {},
   "outputs": [
    {
     "name": "stdout",
     "output_type": "stream",
     "text": [
      "(0, 'Riri')\n",
      "Riri\n",
      "(1, 'Fifi')\n",
      "Fifi\n",
      "(2, 'Loulou')\n",
      "Loulou\n"
     ]
    }
   ],
   "source": [
    "for item in enumerate(MaListe):\n",
    "    print(item)\n",
    "    print(item[1])"
   ]
  },
  {
   "cell_type": "code",
   "execution_count": 12,
   "metadata": {},
   "outputs": [
    {
     "name": "stdout",
     "output_type": "stream",
     "text": [
      "Riri :: 0\n",
      "Fifi :: 1\n",
      "Loulou :: 2\n"
     ]
    }
   ],
   "source": [
    "for i, item in enumerate(MaListe):\n",
    "    print(\"{} :: {}\".format(item, i))\n",
    "    "
   ]
  }
 ],
 "metadata": {
  "kernelspec": {
   "display_name": "base",
   "language": "python",
   "name": "python3"
  },
  "language_info": {
   "codemirror_mode": {
    "name": "ipython",
    "version": 3
   },
   "file_extension": ".py",
   "mimetype": "text/x-python",
   "name": "python",
   "nbconvert_exporter": "python",
   "pygments_lexer": "ipython3",
   "version": "3.10.9"
  },
  "orig_nbformat": 4
 },
 "nbformat": 4,
 "nbformat_minor": 2
}
