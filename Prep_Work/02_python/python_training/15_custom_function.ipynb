{
 "cells": [
  {
   "cell_type": "code",
   "execution_count": 2,
   "metadata": {},
   "outputs": [],
   "source": [
    "def MaFonction():\n",
    "  return \"Hello\""
   ]
  },
  {
   "cell_type": "code",
   "execution_count": 3,
   "metadata": {},
   "outputs": [
    {
     "data": {
      "text/plain": [
       "'Hello'"
      ]
     },
     "execution_count": 3,
     "metadata": {},
     "output_type": "execute_result"
    }
   ],
   "source": [
    "MaFonction()\n"
   ]
  },
  {
   "cell_type": "code",
   "execution_count": 5,
   "metadata": {},
   "outputs": [
    {
     "name": "stdout",
     "output_type": "stream",
     "text": [
      "Bonjour Riri\n",
      "Bonjour Fifi\n"
     ]
    }
   ],
   "source": [
    "def fn2(Nom):\n",
    "    Salutation = \"Bonjour {}\".format(Nom) \n",
    "    return Salutation\n",
    "\n",
    "\n",
    "print(fn2(\"Riri\"))\n",
    "print(fn2(\"Fifi\"))"
   ]
  },
  {
   "cell_type": "code",
   "execution_count": 6,
   "metadata": {},
   "outputs": [
    {
     "name": "stdout",
     "output_type": "stream",
     "text": [
      "Bonjour Fifi\n",
      "Bonjour Riri\n",
      "Bonjour mon ami\n"
     ]
    }
   ],
   "source": [
    "def fn3(Nom=\"mon ami\"):\n",
    "    Salutation = \"Bonjour {}\".format(Nom) \n",
    "    return Salutation\n",
    "\n",
    "\n",
    "print(fn3(\"Fifi\"))\n",
    "print(fn3(\"Riri\"))\n",
    "print(fn3())"
   ]
  }
 ],
 "metadata": {
  "kernelspec": {
   "display_name": "base",
   "language": "python",
   "name": "python3"
  },
  "language_info": {
   "codemirror_mode": {
    "name": "ipython",
    "version": 3
   },
   "file_extension": ".py",
   "mimetype": "text/x-python",
   "name": "python",
   "nbconvert_exporter": "python",
   "pygments_lexer": "ipython3",
   "version": "3.10.9"
  },
  "orig_nbformat": 4
 },
 "nbformat": 4,
 "nbformat_minor": 2
}
