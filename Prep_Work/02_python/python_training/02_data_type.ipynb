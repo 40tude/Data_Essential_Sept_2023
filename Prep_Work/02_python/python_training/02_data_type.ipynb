{
 "cells": [
  {
   "cell_type": "code",
   "execution_count": 3,
   "metadata": {},
   "outputs": [
    {
     "name": "stdout",
     "output_type": "stream",
     "text": [
      "a est de type <class 'int'>\n",
      "b est de type <class 'int'>\n"
     ]
    }
   ],
   "source": [
    "a=42\n",
    "b=93\n",
    "\n",
    "print(\"a est de type {}\".format(type(a)))\n",
    "print(\"b est de type {}\".format(type(b)))\n"
   ]
  },
  {
   "cell_type": "code",
   "execution_count": 5,
   "metadata": {},
   "outputs": [
    {
     "name": "stdout",
     "output_type": "stream",
     "text": [
      "c est de type <class 'float'>\n"
     ]
    }
   ],
   "source": [
    "c=a/b\n",
    "print(\"c est de type {}\".format(type(c)))\n"
   ]
  }
 ],
 "metadata": {
  "kernelspec": {
   "display_name": "base",
   "language": "python",
   "name": "python3"
  },
  "language_info": {
   "codemirror_mode": {
    "name": "ipython",
    "version": 3
   },
   "file_extension": ".py",
   "mimetype": "text/x-python",
   "name": "python",
   "nbconvert_exporter": "python",
   "pygments_lexer": "ipython3",
   "version": "3.10.9"
  },
  "orig_nbformat": 4
 },
 "nbformat": 4,
 "nbformat_minor": 2
}
