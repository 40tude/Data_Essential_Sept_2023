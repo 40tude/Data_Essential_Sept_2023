{
 "cells": [
  {
   "cell_type": "code",
   "execution_count": 16,
   "metadata": {},
   "outputs": [
    {
     "name": "stdout",
     "output_type": "stream",
     "text": [
      "Nb friends : 5\n",
      "Amount     : 789\n",
      "Per friend : 157.8 €\n"
     ]
    }
   ],
   "source": [
    "n = int(input(\"# of friends\"))\n",
    "amount = int(input (\"Amount spent\"))\n",
    "print (\"Nb friends : {}\".format(n))\n",
    "print (\"Amount     : {}\".format(amount))\n",
    "print (\"Per friend : {} €\".format(amount/n))"
   ]
  }
 ],
 "metadata": {
  "kernelspec": {
   "display_name": "base",
   "language": "python",
   "name": "python3"
  },
  "language_info": {
   "codemirror_mode": {
    "name": "ipython",
    "version": 3
   },
   "file_extension": ".py",
   "mimetype": "text/x-python",
   "name": "python",
   "nbconvert_exporter": "python",
   "pygments_lexer": "ipython3",
   "version": "3.10.9"
  },
  "orig_nbformat": 4
 },
 "nbformat": 4,
 "nbformat_minor": 2
}
