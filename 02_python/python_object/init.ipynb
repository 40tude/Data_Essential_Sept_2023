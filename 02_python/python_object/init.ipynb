{
 "cells": [
  {
   "cell_type": "code",
   "execution_count": 6,
   "metadata": {},
   "outputs": [],
   "source": [
    "class BasicMath():\n",
    "    def __init__(self, x, y):\n",
    "        self.a = x\n",
    "        self.b = y\n",
    "    \n",
    "    def add(self):\n",
    "        return self.a + self.b"
   ]
  },
  {
   "cell_type": "code",
   "execution_count": 7,
   "metadata": {},
   "outputs": [
    {
     "data": {
      "text/plain": [
       "17"
      ]
     },
     "execution_count": 7,
     "metadata": {},
     "output_type": "execute_result"
    }
   ],
   "source": [
    "Bob = BasicMath(8, 9)\n",
    "Bob.add()\n",
    "\n"
   ]
  },
  {
   "cell_type": "code",
   "execution_count": 19,
   "metadata": {},
   "outputs": [],
   "source": [
    "# accept des listes\n",
    "# implémente sum et moyenne par exemple\n",
    "\n",
    "class MaClasse():\n",
    "    def __init__(self, UneListe=[]): # Liste vide par défaut en paramètre\n",
    "        self.List = UneListe\n",
    "\n",
    "    def sum(self):\n",
    "        return sum(self.List)     "
   ]
  },
  {
   "cell_type": "code",
   "execution_count": 21,
   "metadata": {},
   "outputs": [
    {
     "name": "stdout",
     "output_type": "stream",
     "text": [
      "103\n",
      "0\n"
     ]
    }
   ],
   "source": [
    "Vect = MaClasse([1,2,100])\n",
    "print(Vect.sum())\n",
    "\n",
    "Vect2 = MaClasse() # Liste vide\n",
    "print(Vect2.sum())\n",
    "\n"
   ]
  },
  {
   "cell_type": "code",
   "execution_count": null,
   "metadata": {},
   "outputs": [],
   "source": []
  }
 ],
 "metadata": {
  "kernelspec": {
   "display_name": "base",
   "language": "python",
   "name": "python3"
  },
  "language_info": {
   "codemirror_mode": {
    "name": "ipython",
    "version": 3
   },
   "file_extension": ".py",
   "mimetype": "text/x-python",
   "name": "python",
   "nbconvert_exporter": "python",
   "pygments_lexer": "ipython3",
   "version": "3.10.9"
  },
  "orig_nbformat": 4
 },
 "nbformat": 4,
 "nbformat_minor": 2
}
