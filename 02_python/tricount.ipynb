{
 "cells": [
  {
   "cell_type": "code",
   "execution_count": 1,
   "metadata": {},
   "outputs": [
    {
     "name": "stdout",
     "output_type": "stream",
     "text": [
      "[('aze', 78), ('qsd', 88)]\n"
     ]
    }
   ],
   "source": [
    "\n",
    "# if len(ListOfNames) == len(ListOfAmounts):\n",
    "#   # list of tuples\n",
    "#   Friends = [\n",
    "#       (ListOfNames[0], ListOfAmounts[0]),\n",
    "#       (ListOfNames[1], ListOfAmounts[1])\n",
    "#   ]\n",
    "# elif len(ListOfNames) < len(ListOfAmounts):\n",
    "#   print (\"Manque des noms\")\n",
    "# else:\n",
    "#   print(\"Manque des montants\")\n",
    "\n",
    "Friends = []\n",
    "n = int(input (\"Nb participants\"))\n",
    "for i in range(n):\n",
    "  Nom = input(\"Donnez le nom : \")\n",
    "  Montant = int(input(\"Donnez le montant : \"))\n",
    "  Friends.append((Nom, Montant))\n",
    "\n",
    "print(Friends)  \n",
    "\n"
   ]
  },
  {
   "cell_type": "code",
   "execution_count": 3,
   "metadata": {},
   "outputs": [
    {
     "name": "stdout",
     "output_type": "stream",
     "text": [
      "[('aze', 78), ('qsd', 45)]\n"
     ]
    }
   ],
   "source": [
    "Noms = input(\"Donnez les noms séparés par des virgules : \")\n",
    "Montants = input(\"Donnez les montants séparés par des virgules : \")\n",
    "\n",
    "ListOfNames = Noms.split(\",\")\n",
    "ListOfAmounts = Montants.split(\",\")\n",
    "\n",
    "Friends = []\n",
    "for Friend, Montant in zip(ListOfNames, ListOfAmounts):\n",
    "  Friends.append((Friend, int(Montant)))\n",
    "print(Friends)  "
   ]
  },
  {
   "cell_type": "code",
   "execution_count": 6,
   "metadata": {},
   "outputs": [
    {
     "name": "stdout",
     "output_type": "stream",
     "text": [
      "[('aze', 78), ('qsd', 45)]\n",
      "Total : 123\n"
     ]
    }
   ],
   "source": [
    "Noms = input(\"Donnez les noms séparés par des virgules : \")\n",
    "Montants = input(\"Donnez les montants séparés par des virgules : \")\n",
    "\n",
    "ListOfNames = Noms.split(\",\")\n",
    "ListOfAmounts = Montants.split(\",\")\n",
    "\n",
    "while len(ListOfNames) != len(ListOfAmounts):\n",
    "  Noms = input(\"Donnez les noms séparés par des virgules : \")\n",
    "  Montants = input(\"Donnez les montants séparés par des virgules : \")\n",
    "  ListOfNames = Noms.split(\",\")\n",
    "  ListOfAmounts = Montants.split(\",\")\n",
    "\n",
    "Friends = []\n",
    "Total=0\n",
    "# zip() takes iterables (can be zero or more), aggregates them in a tuple, and returns it.\n",
    "for Friend, Montant in zip(ListOfNames, ListOfAmounts):\n",
    "  Friends.append((Friend, int(Montant)))\n",
    "  Total+=int(Montant)\n",
    "print(Friends)  \n",
    "print(f\"Total : {Total}\")"
   ]
  },
  {
   "cell_type": "code",
   "execution_count": 9,
   "metadata": {},
   "outputs": [
    {
     "name": "stdout",
     "output_type": "stream",
     "text": [
      "Le total des participations s'élève à : 168.0 €.\n",
      "\n",
      "zae à abondé de 89.0 €.\n",
      "qsd à abondé de 56.0 €.\n",
      "wxc à abondé de 23.0 €.\n",
      "\n",
      "zae doit recevoir 33.00€\n",
      "qsd ne doit rien donner ni rien recevoir\n",
      "wxc doit donner 33.00€\n"
     ]
    }
   ],
   "source": [
    "# ensure n is valid (positive integer)\n",
    "n = -1\n",
    "while n < 0 :\n",
    "  try:\n",
    "    n = int(input (\"# of participants : \"))\n",
    "  except:\n",
    "    n = -1\n",
    "    continue\n",
    "\n",
    "Friends = []\n",
    "Total=0.0\n",
    "for i in range(n):\n",
    "  Nom = input(\"Donnez le nom : \")\n",
    "  # Validate the amount\n",
    "  while True:\n",
    "    try :\n",
    "      Montant = float(input(\"Donnez le montant : \"))\n",
    "      break\n",
    "    except:\n",
    "      continue \n",
    "  Friends.append((Nom, Montant))\n",
    "  Total += Montant\n",
    " \n",
    "print(f\"Le total des participations s'élève à : {Total} €.\\n\")\n",
    "\n",
    "for Friend, Val in Friends :\n",
    "  print(f\"{Friend} à abondé de {Val} €.\")\n",
    "print()\n",
    "\n",
    "Average = Total/n\n",
    "for Friend, Val in Friends :\n",
    "  if(Val-Average < 0) :\n",
    "    print(f\"{Friend} doit donner {abs(Average-Val):.2f} €.\")\n",
    "  elif (Val-Average > 0) :\n",
    "    print(f\"{Friend} doit recevoir {abs(Average-Val):.2f} €.\")\n",
    "  else :\n",
    "    print(f\"{Friend} ne doit rien donner ni rien recevoir.\")    \n"
   ]
  }
 ],
 "metadata": {
  "kernelspec": {
   "display_name": "base",
   "language": "python",
   "name": "python3"
  },
  "language_info": {
   "codemirror_mode": {
    "name": "ipython",
    "version": 3
   },
   "file_extension": ".py",
   "mimetype": "text/x-python",
   "name": "python",
   "nbconvert_exporter": "python",
   "pygments_lexer": "ipython3",
   "version": "3.10.12"
  },
  "orig_nbformat": 4
 },
 "nbformat": 4,
 "nbformat_minor": 2
}
