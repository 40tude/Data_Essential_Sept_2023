{
 "cells": [
  {
   "cell_type": "markdown",
   "metadata": {},
   "source": [
    "Reference : https://app.jedha.co/course/a-b-testing-and-web-analytics-e/loan-control-with-qonto-e\n",
    "\n",
    "1. Import des lib\n",
    "1. Import Dataset\n",
    "1. Exploratory Data Analysis\n",
    "1. Define hypothesis\n",
    "1. Calculate Z-Score\n",
    "1. Set $\\alpha$ \n",
    "1. Compare p-value with $\\alpha$ \n",
    "\n"
   ]
  },
  {
   "cell_type": "markdown",
   "metadata": {},
   "source": [
    "## 1 - Import des lib"
   ]
  },
  {
   "cell_type": "code",
   "execution_count": 1,
   "metadata": {},
   "outputs": [],
   "source": [
    "# Import\n",
    "import pandas as pd\n",
    "import numpy as np\n",
    "import matplotlib.pyplot as plt\n",
    "#import seaborn as sns\n",
    "from statsmodels.stats.weightstats import ztest as ztest "
   ]
  },
  {
   "cell_type": "markdown",
   "metadata": {},
   "source": [
    "## 2 - Import dataset"
   ]
  },
  {
   "cell_type": "code",
   "execution_count": 2,
   "metadata": {},
   "outputs": [
    {
     "name": "stdout",
     "output_type": "stream",
     "text": [
      "   Time_for_producing_income_statement_before  \\\n",
      "0                                          11   \n",
      "1                                          13   \n",
      "2                                          38   \n",
      "3                                          28   \n",
      "4                                          39   \n",
      "\n",
      "   Time_for_producing_income_statement_after  \n",
      "0                                         75  \n",
      "1                                         72  \n",
      "2                                         15  \n",
      "3                                         34  \n",
      "4                                         17  \n",
      "Il y a 1500 échantillons\n"
     ]
    }
   ],
   "source": [
    "df = pd.read_csv (\"spendesk_survey.csv\")\n",
    "print(df.head())\n",
    "print(f\"Il y a {len(df)} échantillons\" )"
   ]
  },
  {
   "cell_type": "markdown",
   "metadata": {},
   "source": [
    "## Step 3 - Exploratory Data Analysis (EDA)"
   ]
  },
  {
   "cell_type": "code",
   "execution_count": 9,
   "metadata": {},
   "outputs": [
    {
     "name": "stdout",
     "output_type": "stream",
     "text": [
      "Moyenne des temps avant : 65.73 \n",
      "Moyenne des temps après : 41.03 \n",
      "Amélioration en moyenne : -37.58%\n"
     ]
    },
    {
     "data": {
      "image/png": "[encoded data removed]",
      "text/plain": [
       "<Figure size 640x480 with 1 Axes>"
      ]
     },
     "metadata": {},
     "output_type": "display_data"
    }
   ],
   "source": [
    "df.describe()\n",
    "print(f\"Moyenne des temps avant : {df['Time_for_producing_income_statement_before'].mean():.02f} \") \n",
    "print(f\"Moyenne des temps après : {df['Time_for_producing_income_statement_after'].mean():.02f} \") \n",
    "\n",
    "variation = (df['Time_for_producing_income_statement_after'].mean()/df['Time_for_producing_income_statement_before'].mean() - 1)\n",
    "print (f\"Amélioration en moyenne : {variation*100:.02f}%\")\n",
    "\n",
    "# y=[]\n",
    "# y.append(df['calls_abroad'].mean())\n",
    "# y.append(df['calls_in_France'].mean())\n",
    "# fig, ax = plt.subplots()\n",
    "# _ = ax.scatter ([1, 2], y, color='blue', alpha=.50)\n",
    "# ax.set(ylim=(4, 6))\n",
    "\n",
    "Means = df.mean()\n",
    "_ = Means.plot(kind=\"bar\")\n",
    "\n",
    "\n",
    "\n"
   ]
  },
  {
   "cell_type": "code",
   "execution_count": 4,
   "metadata": {},
   "outputs": [
    {
     "data": {
      "text/html": [
       "<div>\n",
       "<style scoped>\n",
       "    .dataframe tbody tr th:only-of-type {\n",
       "        vertical-align: middle;\n",
       "    }\n",
       "\n",
       "    .dataframe tbody tr th {\n",
       "        vertical-align: top;\n",
       "    }\n",
       "\n",
       "    .dataframe thead th {\n",
       "        text-align: right;\n",
       "    }\n",
       "</style>\n",
       "<table border=\"1\" class=\"dataframe\">\n",
       "  <thead>\n",
       "    <tr style=\"text-align: right;\">\n",
       "      <th></th>\n",
       "      <th>Time_for_producing_income_statement_before</th>\n",
       "      <th>Time_for_producing_income_statement_after</th>\n",
       "      <th>time_diff</th>\n",
       "    </tr>\n",
       "  </thead>\n",
       "  <tbody>\n",
       "    <tr>\n",
       "      <th>0</th>\n",
       "      <td>11</td>\n",
       "      <td>75</td>\n",
       "      <td>-64</td>\n",
       "    </tr>\n",
       "    <tr>\n",
       "      <th>1</th>\n",
       "      <td>13</td>\n",
       "      <td>72</td>\n",
       "      <td>-59</td>\n",
       "    </tr>\n",
       "    <tr>\n",
       "      <th>2</th>\n",
       "      <td>38</td>\n",
       "      <td>15</td>\n",
       "      <td>23</td>\n",
       "    </tr>\n",
       "    <tr>\n",
       "      <th>3</th>\n",
       "      <td>28</td>\n",
       "      <td>34</td>\n",
       "      <td>-6</td>\n",
       "    </tr>\n",
       "    <tr>\n",
       "      <th>4</th>\n",
       "      <td>39</td>\n",
       "      <td>17</td>\n",
       "      <td>22</td>\n",
       "    </tr>\n",
       "  </tbody>\n",
       "</table>\n",
       "</div>"
      ],
      "text/plain": [
       "   Time_for_producing_income_statement_before  \\\n",
       "0                                          11   \n",
       "1                                          13   \n",
       "2                                          38   \n",
       "3                                          28   \n",
       "4                                          39   \n",
       "\n",
       "   Time_for_producing_income_statement_after  time_diff  \n",
       "0                                         75        -64  \n",
       "1                                         72        -59  \n",
       "2                                         15         23  \n",
       "3                                         34         -6  \n",
       "4                                         17         22  "
      ]
     },
     "execution_count": 4,
     "metadata": {},
     "output_type": "execute_result"
    }
   ],
   "source": [
    "df[\"time_diff\"] = df['Time_for_producing_income_statement_before'] - df['Time_for_producing_income_statement_after']\n",
    "df.head()"
   ]
  },
  {
   "cell_type": "markdown",
   "metadata": {},
   "source": [
    "## 4 - Define hypothesis\n",
    "One thing that Spendesk really would like to prove is that their platform save at least 26 days of work to their customers\n",
    "\n",
    "$$ H_1 : SavedDays >= 26 $$\n",
    "$$ H_0 : SavedDays < 26 $$\n",
    "\n",
    "On va tenter de rejeter $H_0$ ce qui prouvera que $H_1$ est vraie.\n",
    "\n",
    "### TO DO : À vérifier\n",
    "Dans le cours il est dit : \n",
    "\n",
    "* Only specifically for A/B test, you will consider the following:\n",
    "* $H_0$ : A-B = 0\n",
    "* $H_1$ : A-B < 0 or A-B > 0 (depending on your sample results)\n",
    "* The average conversion for A minus the average conversion for B is equal to 0, which would mean that your variation has no significative impact compared to your control variable."
   ]
  },
  {
   "cell_type": "markdown",
   "metadata": {},
   "source": [
    "## 5 - Calculate Z-score\n",
    "$$ Z = \\frac{\\bar{X}-\\mu}{\\frac{s}{\\sqrt{n}}}$$"
   ]
  },
  {
   "cell_type": "code",
   "execution_count": 25,
   "metadata": {},
   "outputs": [
    {
     "name": "stdout",
     "output_type": "stream",
     "text": [
      "La moyenne de l'échantillon : 24.70 \n",
      "L'écart type de l'échantillon : 37.97 \n",
      "Z-score = -1.321\n"
     ]
    }
   ],
   "source": [
    "# Calculate the average of the sample\n",
    "mean_sample = df['time_diff'].mean()\n",
    "print(f\"La moyenne de l'échantillon : {mean_sample:.02f} \") \n",
    "\n",
    "# Calculate the std of the sample\n",
    "std_sample = df['time_diff'].std()\n",
    "print(f\"L'écart type de l'échantillon : {std_sample:.02f} \") \n",
    "\n",
    "# Find sample size n\n",
    "n = len(df)\n",
    "\n",
    "# Moyenne de la population\n",
    "mu_pop = 26\n",
    "\n",
    "Z = (mean_sample - mu_pop) / (std_sample/n**.5)\n",
    "print(f\"Z-score = {Z:.3f}\")"
   ]
  },
  {
   "cell_type": "markdown",
   "metadata": {},
   "source": [
    "## 6 - Set $\\alpha$ \n",
    "Talking with Spendesk's marketing team, they told us that 10% seemed enough."
   ]
  },
  {
   "cell_type": "markdown",
   "metadata": {},
   "source": [
    "alpha = 0.10"
   ]
  },
  {
   "cell_type": "markdown",
   "metadata": {},
   "source": [
    "## 7 - Compare p-value to $\\alpha$"
   ]
  },
  {
   "cell_type": "code",
   "execution_count": 27,
   "metadata": {},
   "outputs": [
    {
     "name": "stdout",
     "output_type": "stream",
     "text": [
      "Z-score value is : -1.3212\n",
      "p_value value is : 0.9068\n"
     ]
    }
   ],
   "source": [
    "# https://www.statsmodels.org/dev/generated/statsmodels.stats.weightstats.ztest.html\n",
    "# In the one sample case, value is the mean of x1 under the Null hypothesis. \n",
    "# In the two sample case, value is the difference between mean of x1 and mean of x2 under the Null hypothesis\n",
    "# Alternative :\n",
    "#   ‘two-sided’: H1: difference in means not equal to value (default) \n",
    "#   ‘larger’   : H1: difference in means larger than value \n",
    "#   ‘smaller’  : H1: difference in means smaller than value\n",
    "\n",
    "\n",
    "z_score, p_value = ztest(df[\"time_diff\"], value = mu_pop, alternative=\"larger\" )\n",
    "print (f\"Z-score value is : {z_score:.4f}\")\n",
    "print (f\"p_value value is : {p_value:.4f}\")"
   ]
  },
  {
   "cell_type": "markdown",
   "metadata": {},
   "source": [
    "La p_value est inférieure à $\\alpha$ donc on peut rejeter l'hypothèse nulle.\n",
    "\n",
    "Donc $H_1$ est vraie. \n",
    "\n",
    "On fait bien économiser plus de 26 jours."
   ]
  },
  {
   "cell_type": "markdown",
   "metadata": {},
   "source": [
    "## 8 - Visualize probability"
   ]
  },
  {
   "cell_type": "code",
   "execution_count": 15,
   "metadata": {},
   "outputs": [
    {
     "data": {
      "image/png": "[encoded data removed]",
      "text/plain": [
       "<Figure size 640x480 with 1 Axes>"
      ]
     },
     "metadata": {},
     "output_type": "display_data"
    }
   ],
   "source": [
    "from scipy.stats import norm\n",
    "  \n",
    "x_values = np.arange(-4, 4, 0.01)\n",
    "\n",
    "mean_target = 0\n",
    "std_target = 1\n",
    "y_values = norm.pdf(x_values, mean_target, std_target)\n",
    "\n",
    "\n",
    "fig, ax = plt.subplots()\n",
    "ax.plot(x_values, y_values, color='blue', alpha=1.00)\n",
    "ax.fill_between(x_values, y_values, 0, color='blue', alpha=.1)\n",
    "\n",
    "# A remplacer quand on aura la bonne valeur de z-score\n",
    "z_score = -1.32\n",
    "\n",
    "if(z_score<0) :\n",
    "  x_values2 = np.arange(-4, z_score, 0.01)\n",
    "else:\n",
    "  x_values2 = np.arange(z_score, 4, 0.01)\n",
    "\n",
    "y_values2 = norm.pdf(x_values2, mean_target, std_target)\n",
    "ax.plot(x_values2, y_values2, color='red', alpha=1.00)\n",
    "ax.fill_between(x_values2, y_values2, 0, color='red', alpha=.1)\n",
    "\n",
    "plt.show()"
   ]
  },
  {
   "cell_type": "code",
   "execution_count": null,
   "metadata": {},
   "outputs": [],
   "source": []
  }
 ],
 "metadata": {
  "kernelspec": {
   "display_name": "base",
   "language": "python",
   "name": "python3"
  },
  "language_info": {
   "codemirror_mode": {
    "name": "ipython",
    "version": 3
   },
   "file_extension": ".py",
   "mimetype": "text/x-python",
   "name": "python",
   "nbconvert_exporter": "python",
   "pygments_lexer": "ipython3",
   "version": "3.10.12"
  },
  "orig_nbformat": 4
 },
 "nbformat": 4,
 "nbformat_minor": 2
}
