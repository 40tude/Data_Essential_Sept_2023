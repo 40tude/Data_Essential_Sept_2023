{
 "cells": [
  {
   "cell_type": "markdown",
   "metadata": {},
   "source": [
    "Apple has just launched their new IOS for Iphone and would like to know if customers are satisfied with this version or not. \n",
    "\n",
    "They asked **40 people** about their satisfaction with the OS and collected their answers. \n",
    "\n",
    "For educational purposes, we have marked the satisfied with a 1 and the dissatisfied with a 0.\n",
    "\n",
    "* Open the satisfaction apple release.xlsx file.\n",
    "* Set the number n of people in the sample.\n",
    "* Calculate k, the number of people satisfied with the OS.\n",
    "* Calculate p, the proportion of people satisfied with the OS.\n",
    "* Calculate the confidence interval of the proportion of the population."
   ]
  },
  {
   "cell_type": "code",
   "execution_count": 1,
   "metadata": {},
   "outputs": [
    {
     "data": {
      "text/html": [
       "<div>\n",
       "<style scoped>\n",
       "    .dataframe tbody tr th:only-of-type {\n",
       "        vertical-align: middle;\n",
       "    }\n",
       "\n",
       "    .dataframe tbody tr th {\n",
       "        vertical-align: top;\n",
       "    }\n",
       "\n",
       "    .dataframe thead th {\n",
       "        text-align: right;\n",
       "    }\n",
       "</style>\n",
       "<table border=\"1\" class=\"dataframe\">\n",
       "  <thead>\n",
       "    <tr style=\"text-align: right;\">\n",
       "      <th></th>\n",
       "      <th>Satisfied customer</th>\n",
       "    </tr>\n",
       "  </thead>\n",
       "  <tbody>\n",
       "    <tr>\n",
       "      <th>0</th>\n",
       "      <td>0</td>\n",
       "    </tr>\n",
       "    <tr>\n",
       "      <th>1</th>\n",
       "      <td>0</td>\n",
       "    </tr>\n",
       "    <tr>\n",
       "      <th>2</th>\n",
       "      <td>0</td>\n",
       "    </tr>\n",
       "    <tr>\n",
       "      <th>3</th>\n",
       "      <td>0</td>\n",
       "    </tr>\n",
       "    <tr>\n",
       "      <th>4</th>\n",
       "      <td>0</td>\n",
       "    </tr>\n",
       "  </tbody>\n",
       "</table>\n",
       "</div>"
      ],
      "text/plain": [
       "   Satisfied customer\n",
       "0                   0\n",
       "1                   0\n",
       "2                   0\n",
       "3                   0\n",
       "4                   0"
      ]
     },
     "execution_count": 1,
     "metadata": {},
     "output_type": "execute_result"
    }
   ],
   "source": [
    "# Open the monthly_spending_adwords.xlsx file\n",
    "import os\n",
    "import pandas as pd\n",
    "MyPath = os.getcwd()\n",
    "Data = pd.read_excel (MyPath + \"/satisfaction apple release.xlsx\")\n",
    "Data.head()"
   ]
  },
  {
   "cell_type": "code",
   "execution_count": 2,
   "metadata": {},
   "outputs": [
    {
     "name": "stdout",
     "output_type": "stream",
     "text": [
      "n = 41\n"
     ]
    }
   ],
   "source": [
    "# Set the number n of people in the sample.\n",
    "n = len(Data)\n",
    "print(f\"n = {n}\")"
   ]
  },
  {
   "cell_type": "code",
   "execution_count": 5,
   "metadata": {},
   "outputs": [
    {
     "name": "stdout",
     "output_type": "stream",
     "text": [
      "15\n"
     ]
    }
   ],
   "source": [
    "# Calculate k, the number of people satisfied with the OS.\n",
    "# Faut simplement compter le nombre de 1\n",
    "# C'est donc la somme\n",
    "k = Data.iloc[:,0].sum()"
   ]
  },
  {
   "cell_type": "code",
   "execution_count": 7,
   "metadata": {},
   "outputs": [
    {
     "name": "stdout",
     "output_type": "stream",
     "text": [
      "0.36585365853658536\n"
     ]
    }
   ],
   "source": [
    "# Calculate p, the proportion of people satisfied with the OS.\n",
    "p = k/n"
   ]
  },
  {
   "cell_type": "code",
   "execution_count": 14,
   "metadata": {},
   "outputs": [
    {
     "name": "stdout",
     "output_type": "stream",
     "text": [
      "Intervale de confiance à 95%             : 0.15\n",
      "Le nombre minimal de villes à tester est : 41\n"
     ]
    }
   ],
   "source": [
    "# Calculate the confidence interval of the proportion of the population.\n",
    "# With proportion we know E = t * sqrt (p*(1-p)/n)\n",
    "# 95% => t = 1.96\n",
    "E = 1.96 * (p*(1-p)/n)**0.5 \n",
    "print(f\"Intervale de confiance à 95%             : {E:.2f}\")\n",
    "\n",
    "Nb_Minimal = p*(1-p)*(1.96/E)**2\n",
    "print(f\"Le nombre minimal de villes à tester est : {Nb_Minimal:.0f}\")\n",
    " "
   ]
  }
 ],
 "metadata": {
  "kernelspec": {
   "display_name": "base",
   "language": "python",
   "name": "python3"
  },
  "language_info": {
   "codemirror_mode": {
    "name": "ipython",
    "version": 3
   },
   "file_extension": ".py",
   "mimetype": "text/x-python",
   "name": "python",
   "nbconvert_exporter": "python",
   "pygments_lexer": "ipython3",
   "version": "3.10.12"
  },
  "orig_nbformat": 4
 },
 "nbformat": 4,
 "nbformat_minor": 2
}
