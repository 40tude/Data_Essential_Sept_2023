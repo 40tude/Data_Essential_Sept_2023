{
 "cells": [
  {
   "cell_type": "markdown",
   "metadata": {},
   "source": [
    "A laboratory has created a new drug and would like to test its effectiveness. \n",
    "\n",
    "Based on tests done on rats, experts estimate that it should have an efficiency rate of about **90%**. \n",
    "\n",
    "They would like to know the number of individuals (n) that would have to be tested to confirm its **95%** effectiveness with a Error margin E of 1%.\n",
    "\n",
    "* Set p, the estimated proportion.\n",
    "* Set z, the z−value for a 95% confidence level.\n",
    "* Set your margin of Error, E.\n",
    "* Calculate n"
   ]
  },
  {
   "cell_type": "code",
   "execution_count": 1,
   "metadata": {},
   "outputs": [],
   "source": [
    "# Set p, the estimated proportion.\n",
    "# If Error margin is 1% then p = 99%\n",
    "p = 0.99"
   ]
  },
  {
   "cell_type": "code",
   "execution_count": 6,
   "metadata": {},
   "outputs": [],
   "source": [
    "# Set z, the z−value for a 95% confidence level.\n",
    "z = 1.96"
   ]
  },
  {
   "cell_type": "code",
   "execution_count": 4,
   "metadata": {},
   "outputs": [],
   "source": [
    "# Set your margin of Error, E.\n",
    "E = 0.01\n"
   ]
  },
  {
   "cell_type": "markdown",
   "metadata": {},
   "source": [
    "$$ n = p * (1-p) * (\\frac{z}{E})^2$$"
   ]
  },
  {
   "cell_type": "code",
   "execution_count": 7,
   "metadata": {},
   "outputs": [
    {
     "name": "stdout",
     "output_type": "stream",
     "text": [
      "Le nombre d'individus à terster est : 380\n"
     ]
    }
   ],
   "source": [
    "# Calculate n\n",
    "# n = p * (1-p) * (t/E)²\n",
    "\n",
    "n = p * (1-p) * (z/E)**2\n",
    "print(f\"Le nombre d'individus à terster est : {n:.0f}\")"
   ]
  },
  {
   "cell_type": "code",
   "execution_count": 2,
   "metadata": {},
   "outputs": [
    {
     "name": "stdout",
     "output_type": "stream",
     "text": [
      "n = 41\n"
     ]
    }
   ],
   "source": [
    "# Set the number n of people in the sample.\n",
    "n = len(Data)\n",
    "print(f\"n = {n}\")"
   ]
  },
  {
   "cell_type": "code",
   "execution_count": 5,
   "metadata": {},
   "outputs": [
    {
     "name": "stdout",
     "output_type": "stream",
     "text": [
      "15\n"
     ]
    }
   ],
   "source": [
    "# Calculate k, the number of people satisfied with the OS.\n",
    "# Faut simplement compter le nombre de 1\n",
    "# C'est donc la somme\n",
    "k = Data.iloc[:,0].sum()"
   ]
  },
  {
   "cell_type": "code",
   "execution_count": 7,
   "metadata": {},
   "outputs": [
    {
     "name": "stdout",
     "output_type": "stream",
     "text": [
      "0.36585365853658536\n"
     ]
    }
   ],
   "source": [
    "# Calculate p, the proportion of people satisfied with the OS.\n",
    "p = k/n"
   ]
  },
  {
   "cell_type": "code",
   "execution_count": 14,
   "metadata": {},
   "outputs": [
    {
     "name": "stdout",
     "output_type": "stream",
     "text": [
      "Intervale de confiance à 95%             : 0.15\n",
      "Le nombre minimal de villes à tester est : 41\n"
     ]
    }
   ],
   "source": [
    "# Calculate the confidence interval of the proportion of the population.\n",
    "# With proportion we know E = t * sqrt (p*(1-p)/n)\n",
    "# 95% => t = 1.96\n",
    "E = 1.96 * (p*(1-p)/n)**0.5 \n",
    "print(f\"Intervale de confiance à 95%             : {E:.2f}\")\n",
    "\n",
    "Nb_Minimal = p*(1-p)*(1.96/E)**2\n",
    "print(f\"Le nombre minimal de villes à tester est : {Nb_Minimal:.0f}\")\n",
    " "
   ]
  }
 ],
 "metadata": {
  "kernelspec": {
   "display_name": "base",
   "language": "python",
   "name": "python3"
  },
  "language_info": {
   "codemirror_mode": {
    "name": "ipython",
    "version": 3
   },
   "file_extension": ".py",
   "mimetype": "text/x-python",
   "name": "python",
   "nbconvert_exporter": "python",
   "pygments_lexer": "ipython3",
   "version": "3.10.12"
  },
  "orig_nbformat": 4
 },
 "nbformat": 4,
 "nbformat_minor": 2
}
